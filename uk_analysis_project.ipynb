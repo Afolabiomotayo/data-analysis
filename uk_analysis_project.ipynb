{
 "cells": [
  {
   "cell_type": "markdown",
   "id": "b3df5ec4-6b47-4ac7-b8e5-9b7ac8d5ebc2",
   "metadata": {},
   "source": [
    "## UK Vaccinations Dataset \n",
    "\n",
    "This data contains information about the numbers of people who took first, second and third doses of the COVID-19 vaccination in different regions of the UK. The data is compiled from the UK government’s Coronavirus Vaccinations page and covers a period of time from earlier 2021 to mid 2022.  The attached \"UK_VaccinationsData.xlsx\" file contains both the data (first worksheet named ‘data’) and descriptions of the data variables (second worksheet named ‘variables' descriptions’)\n"
   ]
  },
  {
   "cell_type": "code",
   "execution_count": null,
   "id": "c5a5fc94-51c8-4698-9e87-1768af620fb3",
   "metadata": {},
   "outputs": [],
   "source": []
  },
  {
   "cell_type": "markdown",
   "id": "88452408-edeb-49dd-b449-765f40e2cb1d",
   "metadata": {},
   "source": [
    "## Libraries to be used\n",
    "\n",
    "* Numpy\n",
    "* Pandas\n",
    "* Matplotlib\n",
    "* Seaborn"
   ]
  },
  {
   "cell_type": "code",
   "execution_count": null,
   "id": "9dc68544-61f6-4329-9e10-7a020d250ffc",
   "metadata": {},
   "outputs": [],
   "source": []
  },
  {
   "cell_type": "code",
   "execution_count": 1,
   "id": "8811e177-d97a-4053-891e-900bf46ac209",
   "metadata": {},
   "outputs": [],
   "source": [
    "# importing the libraries\n",
    "import numpy as np\n",
    "import pandas as pd\n",
    "import matplotlib.pyplot as plt\n",
    "import seaborn as sns"
   ]
  },
  {
   "cell_type": "markdown",
   "id": "4dbc6866-689f-4752-9aaa-32caa89ea28c",
   "metadata": {},
   "source": [
    "### Question 1:\n",
    "Generate descriptive statistics for the dataset, and comment on the main trends."
   ]
  },
  {
   "cell_type": "markdown",
   "id": "d6f84cec-b230-467d-8089-15be3b292363",
   "metadata": {},
   "source": [
    "### Step 1: Reading and Understanding the Data\n",
    "Let's start with the following steps:\n",
    "\n",
    "* Importing data using the pandas library\n",
    "* Understanding the structure of the data"
   ]
  },
  {
   "cell_type": "code",
   "execution_count": 2,
   "id": "a08fb8bd-4d05-4bd4-9a45-c8f000af83b1",
   "metadata": {},
   "outputs": [],
   "source": [
    "# Load the dataframe\n",
    "uk_vacc = pd.read_csv('UK_VaccinationsData.csv')"
   ]
  },
  {
   "cell_type": "code",
   "execution_count": 3,
   "id": "10036be7-0b13-4a65-865a-9e13d87b4f32",
   "metadata": {},
   "outputs": [
    {
     "data": {
      "text/html": [
       "<div>\n",
       "<style scoped>\n",
       "    .dataframe tbody tr th:only-of-type {\n",
       "        vertical-align: middle;\n",
       "    }\n",
       "\n",
       "    .dataframe tbody tr th {\n",
       "        vertical-align: top;\n",
       "    }\n",
       "\n",
       "    .dataframe thead th {\n",
       "        text-align: right;\n",
       "    }\n",
       "</style>\n",
       "<table border=\"1\" class=\"dataframe\">\n",
       "  <thead>\n",
       "    <tr style=\"text-align: right;\">\n",
       "      <th></th>\n",
       "      <th>areaName</th>\n",
       "      <th>areaCode</th>\n",
       "      <th>year</th>\n",
       "      <th>month</th>\n",
       "      <th>Quarter</th>\n",
       "      <th>day</th>\n",
       "      <th>WorkingDay</th>\n",
       "      <th>FirstDose</th>\n",
       "      <th>SecondDose</th>\n",
       "      <th>ThirdDose</th>\n",
       "      <th>Booster</th>\n",
       "    </tr>\n",
       "  </thead>\n",
       "  <tbody>\n",
       "    <tr>\n",
       "      <th>0</th>\n",
       "      <td>England</td>\n",
       "      <td>E92000001</td>\n",
       "      <td>2022.0</td>\n",
       "      <td>5</td>\n",
       "      <td>Q2</td>\n",
       "      <td>Mon</td>\n",
       "      <td>Yes</td>\n",
       "      <td>3034.0</td>\n",
       "      <td>3857.0</td>\n",
       "      <td>8747.0</td>\n",
       "      <td>1</td>\n",
       "    </tr>\n",
       "    <tr>\n",
       "      <th>1</th>\n",
       "      <td>England</td>\n",
       "      <td>E92000001</td>\n",
       "      <td>2022.0</td>\n",
       "      <td>5</td>\n",
       "      <td>Q2</td>\n",
       "      <td>Sun</td>\n",
       "      <td>No</td>\n",
       "      <td>5331.0</td>\n",
       "      <td>3330.0</td>\n",
       "      <td>4767.0</td>\n",
       "      <td>0</td>\n",
       "    </tr>\n",
       "    <tr>\n",
       "      <th>2</th>\n",
       "      <td>England</td>\n",
       "      <td>E92000001</td>\n",
       "      <td>2022.0</td>\n",
       "      <td>5</td>\n",
       "      <td>Q2</td>\n",
       "      <td>Sat</td>\n",
       "      <td>No</td>\n",
       "      <td>13852.0</td>\n",
       "      <td>9759.0</td>\n",
       "      <td>12335.0</td>\n",
       "      <td>0</td>\n",
       "    </tr>\n",
       "    <tr>\n",
       "      <th>3</th>\n",
       "      <td>England</td>\n",
       "      <td>E92000001</td>\n",
       "      <td>2022.0</td>\n",
       "      <td>5</td>\n",
       "      <td>Q2</td>\n",
       "      <td>Fri</td>\n",
       "      <td>Yes</td>\n",
       "      <td>5818.0</td>\n",
       "      <td>5529.0</td>\n",
       "      <td>10692.0</td>\n",
       "      <td>0</td>\n",
       "    </tr>\n",
       "    <tr>\n",
       "      <th>4</th>\n",
       "      <td>England</td>\n",
       "      <td>E92000001</td>\n",
       "      <td>2022.0</td>\n",
       "      <td>5</td>\n",
       "      <td>Q2</td>\n",
       "      <td>Thu</td>\n",
       "      <td>Yes</td>\n",
       "      <td>8439.0</td>\n",
       "      <td>6968.0</td>\n",
       "      <td>11701.0</td>\n",
       "      <td>0</td>\n",
       "    </tr>\n",
       "  </tbody>\n",
       "</table>\n",
       "</div>"
      ],
      "text/plain": [
       "  areaName   areaCode    year  month Quarter  day WorkingDay  FirstDose  \\\n",
       "0  England  E92000001  2022.0      5      Q2  Mon        Yes     3034.0   \n",
       "1  England  E92000001  2022.0      5      Q2  Sun         No     5331.0   \n",
       "2  England  E92000001  2022.0      5      Q2  Sat         No    13852.0   \n",
       "3  England  E92000001  2022.0      5      Q2  Fri        Yes     5818.0   \n",
       "4  England  E92000001  2022.0      5      Q2  Thu        Yes     8439.0   \n",
       "\n",
       "   SecondDose  ThirdDose  Booster  \n",
       "0      3857.0     8747.0        1  \n",
       "1      3330.0     4767.0        0  \n",
       "2      9759.0    12335.0        0  \n",
       "3      5529.0    10692.0        0  \n",
       "4      6968.0    11701.0        0  "
      ]
     },
     "execution_count": 3,
     "metadata": {},
     "output_type": "execute_result"
    }
   ],
   "source": [
    "# checking the first 5 rows of the dataframe\n",
    "uk_vacc.head()"
   ]
  },
  {
   "cell_type": "code",
   "execution_count": null,
   "id": "209f82ab-0218-4ec1-b3bd-f757ec9ce976",
   "metadata": {},
   "outputs": [],
   "source": []
  },
  {
   "cell_type": "code",
   "execution_count": 4,
   "id": "8d519f1d-910a-46b9-b64b-e60b0af0e9ca",
   "metadata": {},
   "outputs": [
    {
     "data": {
      "text/html": [
       "<div>\n",
       "<style scoped>\n",
       "    .dataframe tbody tr th:only-of-type {\n",
       "        vertical-align: middle;\n",
       "    }\n",
       "\n",
       "    .dataframe tbody tr th {\n",
       "        vertical-align: top;\n",
       "    }\n",
       "\n",
       "    .dataframe thead th {\n",
       "        text-align: right;\n",
       "    }\n",
       "</style>\n",
       "<table border=\"1\" class=\"dataframe\">\n",
       "  <thead>\n",
       "    <tr style=\"text-align: right;\">\n",
       "      <th></th>\n",
       "      <th>year</th>\n",
       "      <th>month</th>\n",
       "      <th>FirstDose</th>\n",
       "      <th>SecondDose</th>\n",
       "      <th>ThirdDose</th>\n",
       "      <th>Booster</th>\n",
       "    </tr>\n",
       "  </thead>\n",
       "  <tbody>\n",
       "    <tr>\n",
       "      <th>count</th>\n",
       "      <td>903.000000</td>\n",
       "      <td>904.000000</td>\n",
       "      <td>900.000000</td>\n",
       "      <td>901.000000</td>\n",
       "      <td>898.000000</td>\n",
       "      <td>904.000000</td>\n",
       "    </tr>\n",
       "    <tr>\n",
       "      <th>mean</th>\n",
       "      <td>2021.625692</td>\n",
       "      <td>5.946903</td>\n",
       "      <td>4994.323333</td>\n",
       "      <td>5574.125416</td>\n",
       "      <td>42529.570156</td>\n",
       "      <td>0.648230</td>\n",
       "    </tr>\n",
       "    <tr>\n",
       "      <th>std</th>\n",
       "      <td>0.484212</td>\n",
       "      <td>4.146467</td>\n",
       "      <td>9651.335670</td>\n",
       "      <td>9174.101390</td>\n",
       "      <td>104877.579915</td>\n",
       "      <td>0.477787</td>\n",
       "    </tr>\n",
       "    <tr>\n",
       "      <th>min</th>\n",
       "      <td>2021.000000</td>\n",
       "      <td>1.000000</td>\n",
       "      <td>0.000000</td>\n",
       "      <td>0.000000</td>\n",
       "      <td>0.000000</td>\n",
       "      <td>0.000000</td>\n",
       "    </tr>\n",
       "    <tr>\n",
       "      <th>25%</th>\n",
       "      <td>2021.000000</td>\n",
       "      <td>2.000000</td>\n",
       "      <td>338.500000</td>\n",
       "      <td>478.000000</td>\n",
       "      <td>1313.500000</td>\n",
       "      <td>0.000000</td>\n",
       "    </tr>\n",
       "    <tr>\n",
       "      <th>50%</th>\n",
       "      <td>2022.000000</td>\n",
       "      <td>4.000000</td>\n",
       "      <td>876.500000</td>\n",
       "      <td>971.000000</td>\n",
       "      <td>6992.000000</td>\n",
       "      <td>1.000000</td>\n",
       "    </tr>\n",
       "    <tr>\n",
       "      <th>75%</th>\n",
       "      <td>2022.000000</td>\n",
       "      <td>11.000000</td>\n",
       "      <td>3653.250000</td>\n",
       "      <td>5770.000000</td>\n",
       "      <td>23464.750000</td>\n",
       "      <td>1.000000</td>\n",
       "    </tr>\n",
       "    <tr>\n",
       "      <th>max</th>\n",
       "      <td>2022.000000</td>\n",
       "      <td>12.000000</td>\n",
       "      <td>115551.000000</td>\n",
       "      <td>48491.000000</td>\n",
       "      <td>830403.000000</td>\n",
       "      <td>1.000000</td>\n",
       "    </tr>\n",
       "  </tbody>\n",
       "</table>\n",
       "</div>"
      ],
      "text/plain": [
       "              year       month      FirstDose    SecondDose      ThirdDose  \\\n",
       "count   903.000000  904.000000     900.000000    901.000000     898.000000   \n",
       "mean   2021.625692    5.946903    4994.323333   5574.125416   42529.570156   \n",
       "std       0.484212    4.146467    9651.335670   9174.101390  104877.579915   \n",
       "min    2021.000000    1.000000       0.000000      0.000000       0.000000   \n",
       "25%    2021.000000    2.000000     338.500000    478.000000    1313.500000   \n",
       "50%    2022.000000    4.000000     876.500000    971.000000    6992.000000   \n",
       "75%    2022.000000   11.000000    3653.250000   5770.000000   23464.750000   \n",
       "max    2022.000000   12.000000  115551.000000  48491.000000  830403.000000   \n",
       "\n",
       "          Booster  \n",
       "count  904.000000  \n",
       "mean     0.648230  \n",
       "std      0.477787  \n",
       "min      0.000000  \n",
       "25%      0.000000  \n",
       "50%      1.000000  \n",
       "75%      1.000000  \n",
       "max      1.000000  "
      ]
     },
     "execution_count": 4,
     "metadata": {},
     "output_type": "execute_result"
    }
   ],
   "source": [
    "# overview of the description of the data in the dataframe\n",
    "uk_vacc.describe()"
   ]
  },
  {
   "cell_type": "code",
   "execution_count": 5,
   "id": "b7092bdb-e097-4678-b621-8d346f35efd2",
   "metadata": {},
   "outputs": [
    {
     "data": {
      "text/plain": [
       "(904, 11)"
      ]
     },
     "execution_count": 5,
     "metadata": {},
     "output_type": "execute_result"
    }
   ],
   "source": [
    "# checking the dimensionality  of the data frame\n",
    "uk_vacc.shape"
   ]
  },
  {
   "cell_type": "markdown",
   "id": "b483cf61-d94d-49cf-9b80-0f103350e840",
   "metadata": {},
   "source": [
    "**The dataframe contains 904 rows and 11 columns**"
   ]
  },
  {
   "cell_type": "code",
   "execution_count": 6,
   "id": "3ca018c1-6c2b-4434-88f7-c1b0ae4339cc",
   "metadata": {},
   "outputs": [
    {
     "name": "stdout",
     "output_type": "stream",
     "text": [
      "<class 'pandas.core.frame.DataFrame'>\n",
      "RangeIndex: 904 entries, 0 to 903\n",
      "Data columns (total 11 columns):\n",
      " #   Column      Non-Null Count  Dtype  \n",
      "---  ------      --------------  -----  \n",
      " 0   areaName    904 non-null    object \n",
      " 1   areaCode    904 non-null    object \n",
      " 2   year        903 non-null    float64\n",
      " 3   month       904 non-null    int64  \n",
      " 4   Quarter     903 non-null    object \n",
      " 5   day         903 non-null    object \n",
      " 6   WorkingDay  902 non-null    object \n",
      " 7   FirstDose   900 non-null    float64\n",
      " 8   SecondDose  901 non-null    float64\n",
      " 9   ThirdDose   898 non-null    float64\n",
      " 10  Booster     904 non-null    int64  \n",
      "dtypes: float64(4), int64(2), object(5)\n",
      "memory usage: 77.8+ KB\n"
     ]
    }
   ],
   "source": [
    "# checking information about the dataframe\n",
    "uk_vacc.info()"
   ]
  },
  {
   "cell_type": "code",
   "execution_count": null,
   "id": "5df3dd66-f60d-436a-a33e-85819072a4fc",
   "metadata": {},
   "outputs": [],
   "source": []
  },
  {
   "cell_type": "markdown",
   "id": "0c678579-3ec8-4be4-9526-4393bdda2884",
   "metadata": {},
   "source": [
    "## Question 2:\n",
    "Check any records with missing values and handle the missing data as appropriate"
   ]
  },
  {
   "cell_type": "code",
   "execution_count": 7,
   "id": "8e93ccff-5694-4f66-b9e9-da1148e2625d",
   "metadata": {},
   "outputs": [
    {
     "data": {
      "text/plain": [
       "areaName      0\n",
       "areaCode      0\n",
       "year          1\n",
       "month         0\n",
       "Quarter       1\n",
       "day           1\n",
       "WorkingDay    2\n",
       "FirstDose     4\n",
       "SecondDose    3\n",
       "ThirdDose     6\n",
       "Booster       0\n",
       "dtype: int64"
      ]
     },
     "execution_count": 7,
     "metadata": {},
     "output_type": "execute_result"
    }
   ],
   "source": [
    "uk_vacc.isna().sum()"
   ]
  },
  {
   "cell_type": "markdown",
   "id": "a8d65f53-cf81-40d5-ae18-53d4f3765e94",
   "metadata": {},
   "source": [
    "#### Handling missing or null values"
   ]
  },
  {
   "cell_type": "markdown",
   "id": "a464e491-ea0c-456c-80ac-b4caf4a82d88",
   "metadata": {},
   "source": [
    "* we will fill the null values in the column \"year' of the dataframe with the mean of the column."
   ]
  },
  {
   "cell_type": "code",
   "execution_count": 8,
   "id": "fe778670-98ce-4910-8dbd-42ac321ca42b",
   "metadata": {},
   "outputs": [],
   "source": [
    "# Finding the mean of the year column\n",
    "year_mean = uk_vacc['year'].mean()"
   ]
  },
  {
   "cell_type": "code",
   "execution_count": 9,
   "id": "232f63f0-b384-49d8-8526-7767fc03032c",
   "metadata": {},
   "outputs": [
    {
     "data": {
      "text/plain": [
       "2021"
      ]
     },
     "execution_count": 9,
     "metadata": {},
     "output_type": "execute_result"
    }
   ],
   "source": [
    "int(year_mean)"
   ]
  },
  {
   "cell_type": "code",
   "execution_count": 10,
   "id": "72546d9b-370c-4cc8-8e3e-cb444dade992",
   "metadata": {},
   "outputs": [],
   "source": [
    "uk_vacc['year'] = uk_vacc['year'].fillna(value=int(year_mean))"
   ]
  },
  {
   "cell_type": "code",
   "execution_count": 11,
   "id": "d3024737-e94c-467c-875b-439ddca0e9e8",
   "metadata": {},
   "outputs": [
    {
     "data": {
      "text/plain": [
       "0"
      ]
     },
     "execution_count": 11,
     "metadata": {},
     "output_type": "execute_result"
    }
   ],
   "source": [
    "uk_vacc['year'].isna().sum()"
   ]
  },
  {
   "cell_type": "code",
   "execution_count": 12,
   "id": "57521f58-26ac-44fd-b96a-e05063542972",
   "metadata": {},
   "outputs": [],
   "source": [
    "# finding the mean of the firstDose column\n",
    "firstdose_mean = uk_vacc['FirstDose'].mean()"
   ]
  },
  {
   "cell_type": "code",
   "execution_count": 13,
   "id": "6445c2f9-f76b-4538-bcce-8e51e0780b6e",
   "metadata": {},
   "outputs": [
    {
     "data": {
      "text/plain": [
       "4994"
      ]
     },
     "execution_count": 13,
     "metadata": {},
     "output_type": "execute_result"
    }
   ],
   "source": [
    "int(firstdose_mean)"
   ]
  },
  {
   "cell_type": "code",
   "execution_count": 14,
   "id": "0b1f4aac-ec18-4f2a-bcb0-581a1bcb443a",
   "metadata": {},
   "outputs": [],
   "source": [
    "uk_vacc['FirstDose'] = uk_vacc['FirstDose'].fillna(value=int(firstdose_mean))\n"
   ]
  },
  {
   "cell_type": "code",
   "execution_count": 15,
   "id": "9325519b-6366-48b1-8d53-d61246afc437",
   "metadata": {},
   "outputs": [
    {
     "data": {
      "text/plain": [
       "0"
      ]
     },
     "execution_count": 15,
     "metadata": {},
     "output_type": "execute_result"
    }
   ],
   "source": [
    "uk_vacc['FirstDose'].isna().sum()"
   ]
  },
  {
   "cell_type": "code",
   "execution_count": 16,
   "id": "73779eca-ce81-49f6-b838-ec7d27bfd707",
   "metadata": {},
   "outputs": [],
   "source": [
    "# finding the mean of the SecondDose column\n",
    "Seconddose_mean = uk_vacc['SecondDose'].mean()"
   ]
  },
  {
   "cell_type": "code",
   "execution_count": 17,
   "id": "30e455c2-3797-4c05-8d9b-8ad79bd4f616",
   "metadata": {},
   "outputs": [
    {
     "data": {
      "text/plain": [
       "5574"
      ]
     },
     "execution_count": 17,
     "metadata": {},
     "output_type": "execute_result"
    }
   ],
   "source": [
    "int(Seconddose_mean)"
   ]
  },
  {
   "cell_type": "code",
   "execution_count": 18,
   "id": "4e8ccb99-ffac-473f-8c71-49a27cf45de9",
   "metadata": {},
   "outputs": [],
   "source": [
    "uk_vacc['SecondDose'] = uk_vacc['SecondDose'].fillna(value=int(Seconddose_mean))"
   ]
  },
  {
   "cell_type": "code",
   "execution_count": 19,
   "id": "aa88f637-6870-4e4b-b60d-db8130209ac1",
   "metadata": {},
   "outputs": [
    {
     "data": {
      "text/plain": [
       "0"
      ]
     },
     "execution_count": 19,
     "metadata": {},
     "output_type": "execute_result"
    }
   ],
   "source": [
    "uk_vacc['SecondDose'].isna().sum()"
   ]
  },
  {
   "cell_type": "code",
   "execution_count": 20,
   "id": "699963d2-8d6b-44a4-a70a-93709071aee4",
   "metadata": {},
   "outputs": [],
   "source": [
    "# finding the mean of the ThirdDose column\n",
    "Thirddose_mean = uk_vacc['ThirdDose'].mean()"
   ]
  },
  {
   "cell_type": "code",
   "execution_count": 21,
   "id": "1738a2e5-dd94-422d-8d4e-23c2770b2508",
   "metadata": {},
   "outputs": [
    {
     "data": {
      "text/plain": [
       "42529"
      ]
     },
     "execution_count": 21,
     "metadata": {},
     "output_type": "execute_result"
    }
   ],
   "source": [
    "int(Thirddose_mean)"
   ]
  },
  {
   "cell_type": "code",
   "execution_count": 22,
   "id": "c877b462-d68b-47d4-86bf-a0d738e17707",
   "metadata": {},
   "outputs": [],
   "source": [
    "uk_vacc['ThirdDose'] = uk_vacc['ThirdDose'].fillna(value=int(Thirddose_mean))"
   ]
  },
  {
   "cell_type": "code",
   "execution_count": 23,
   "id": "f8c6446a-446f-468e-90fa-053aff09fffa",
   "metadata": {},
   "outputs": [
    {
     "data": {
      "text/plain": [
       "0"
      ]
     },
     "execution_count": 23,
     "metadata": {},
     "output_type": "execute_result"
    }
   ],
   "source": [
    "uk_vacc['ThirdDose'].isna().sum()"
   ]
  },
  {
   "cell_type": "code",
   "execution_count": null,
   "id": "0321d5b9-2ae8-4d02-94cb-38303ed84368",
   "metadata": {},
   "outputs": [],
   "source": []
  },
  {
   "cell_type": "markdown",
   "id": "9a48aa4e-c1ce-489e-a046-05afaf7f297c",
   "metadata": {},
   "source": [
    "##### checking the number of categories in 'Quarter', 'day' and 'WorkingDay' columns of the dataframe"
   ]
  },
  {
   "cell_type": "code",
   "execution_count": 24,
   "id": "905e03cc-1da7-424d-a89f-f9c108c8256a",
   "metadata": {},
   "outputs": [
    {
     "name": "stdout",
     "output_type": "stream",
     "text": [
      "Number of categories in: \n",
      "Quarter = 5\n",
      "day = 8\n",
      "WorkingDay = 3\n"
     ]
    }
   ],
   "source": [
    "# Get number of categories in missing value columns\n",
    "print(\"Number of categories in: \") \n",
    "\n",
    "for column in uk_vacc[[\"Quarter\", \"day\", \"WorkingDay\"]]:\n",
    "    print(\"{} = {}\".format(column, len(uk_vacc[column].unique())))"
   ]
  },
  {
   "cell_type": "code",
   "execution_count": null,
   "id": "8cbfca5c-ed86-4eaa-ac19-47e0531f0dfd",
   "metadata": {},
   "outputs": [],
   "source": []
  },
  {
   "cell_type": "markdown",
   "id": "1c54571b-b726-4dee-ad1f-226a43eac105",
   "metadata": {},
   "source": [
    "### Frequent Categorical Imputation \n",
    "\n",
    "***Assumptions:*** Data is missing at random and there exist some missing values\n",
    "\n",
    "***Description:*** Replacing missing values with the most frequent occured category in variable/column\n",
    "\n",
    "***Implementation:*** \n",
    "\n",
    "Step 1: Find which category occurred most in each category using mode()\n",
    "\n",
    "Step 2: Replace all missing values in that column with that category\n",
    "\n",
    "Step 3: Drop original columns and keep newly imputed columns"
   ]
  },
  {
   "cell_type": "code",
   "execution_count": 25,
   "id": "0ffbfecb-19c2-4351-8fee-2683a72ae786",
   "metadata": {},
   "outputs": [],
   "source": [
    "Quarter_mode = uk_vacc[\"Quarter\"].mode()"
   ]
  },
  {
   "cell_type": "code",
   "execution_count": 26,
   "id": "3a2fdb30-af91-4843-b888-09df667dd280",
   "metadata": {},
   "outputs": [
    {
     "data": {
      "text/plain": [
       "0    Q1\n",
       "Name: Quarter, dtype: object"
      ]
     },
     "execution_count": 26,
     "metadata": {},
     "output_type": "execute_result"
    }
   ],
   "source": [
    "Quarter_mode"
   ]
  },
  {
   "cell_type": "code",
   "execution_count": 38,
   "id": "4711a1fc-e8e0-493e-a740-f8328d5c2d1b",
   "metadata": {},
   "outputs": [],
   "source": [
    "uk_vacc = uk_vacc[uk_vacc[\"Quarter\"].notna()]"
   ]
  },
  {
   "cell_type": "code",
   "execution_count": null,
   "id": "cdbd21c2-b235-47b5-a32b-011bbc03614f",
   "metadata": {},
   "outputs": [],
   "source": []
  },
  {
   "cell_type": "code",
   "execution_count": 39,
   "id": "c58fcbca-fffc-442c-bd96-0768d386793c",
   "metadata": {},
   "outputs": [],
   "source": [
    "day_mode = uk_vacc['day'].mode()"
   ]
  },
  {
   "cell_type": "code",
   "execution_count": 40,
   "id": "ca108d6f-5066-4e4d-aa65-61d2bc04bdc4",
   "metadata": {},
   "outputs": [
    {
     "data": {
      "text/plain": [
       "0    Sat\n",
       "1    Sun\n",
       "2    Thu\n",
       "Name: day, dtype: object"
      ]
     },
     "execution_count": 40,
     "metadata": {},
     "output_type": "execute_result"
    }
   ],
   "source": [
    "day_mode"
   ]
  },
  {
   "cell_type": "code",
   "execution_count": 41,
   "id": "7c52513e-ef7f-4fd6-af9d-2c8e1372d836",
   "metadata": {},
   "outputs": [],
   "source": [
    "uk_vacc = uk_vacc[uk_vacc[\"day\"].notna()]"
   ]
  },
  {
   "cell_type": "code",
   "execution_count": null,
   "id": "60375f69-a095-4331-9c89-5e9b7b5d3c92",
   "metadata": {},
   "outputs": [],
   "source": []
  },
  {
   "cell_type": "code",
   "execution_count": 33,
   "id": "fcf8fafc-ae4c-4645-b47b-f012022c0ebf",
   "metadata": {},
   "outputs": [],
   "source": [
    "workingday_mode = uk_vacc['WorkingDay'].mode()"
   ]
  },
  {
   "cell_type": "code",
   "execution_count": 34,
   "id": "aec43a2b-81aa-47f8-bd11-308dc947a242",
   "metadata": {},
   "outputs": [
    {
     "data": {
      "text/plain": [
       "0    Yes\n",
       "Name: WorkingDay, dtype: object"
      ]
     },
     "execution_count": 34,
     "metadata": {},
     "output_type": "execute_result"
    }
   ],
   "source": [
    "workingday_mode"
   ]
  },
  {
   "cell_type": "code",
   "execution_count": 42,
   "id": "f908d1ed-26fa-4183-a9b5-773fd561c475",
   "metadata": {},
   "outputs": [],
   "source": [
    "uk_vacc = uk_vacc[uk_vacc[\"WorkingDay\"].notna()]"
   ]
  },
  {
   "cell_type": "code",
   "execution_count": null,
   "id": "e4d1ae12-cb1d-4d94-bf64-54d31f42cd42",
   "metadata": {},
   "outputs": [],
   "source": []
  },
  {
   "cell_type": "markdown",
   "id": "dd4d9c1e-3918-425a-92bd-a6eedb6e1c53",
   "metadata": {},
   "source": [
    "Checking the dataframe after cleaning"
   ]
  },
  {
   "cell_type": "code",
   "execution_count": 43,
   "id": "6fe4accc-2d74-4595-9619-6be65f8905f8",
   "metadata": {},
   "outputs": [
    {
     "data": {
      "text/plain": [
       "areaName      0\n",
       "areaCode      0\n",
       "year          0\n",
       "month         0\n",
       "Quarter       0\n",
       "day           0\n",
       "WorkingDay    0\n",
       "FirstDose     0\n",
       "SecondDose    0\n",
       "ThirdDose     0\n",
       "Booster       0\n",
       "dtype: int64"
      ]
     },
     "execution_count": 43,
     "metadata": {},
     "output_type": "execute_result"
    }
   ],
   "source": [
    "uk_vacc.isna().sum()"
   ]
  },
  {
   "cell_type": "markdown",
   "id": "eae52e41-ca55-4905-becc-90f1fafb6c52",
   "metadata": {},
   "source": [
    "## Data Visualization"
   ]
  },
  {
   "cell_type": "markdown",
   "id": "97178612-04ef-4b2e-86da-68f35da82a1a",
   "metadata": {
    "jp-MarkdownHeadingCollapsed": true
   },
   "source": [
    "## Question 3\n",
    "\n",
    "Build graphs visualizing the following and comment on the obtained visual insights\n",
    "\n",
    "A.\tthe distribution of one or more individual continuous variables\n",
    "\n",
    "B.\tthe relationship of a pair of continuous variables.\n",
    "\n",
    "C.\tthe association b/w a categorical variable and a continuous one.\n"
   ]
  },
  {
   "cell_type": "code",
   "execution_count": null,
   "id": "de75ad81-560b-4529-b80d-8e7e77400322",
   "metadata": {},
   "outputs": [],
   "source": []
  },
  {
   "cell_type": "markdown",
   "id": "19ad81b0-b698-471e-ae08-00d66a1bea8c",
   "metadata": {},
   "source": [
    "##### This data contains information about the numbers of people who took first, second and third doses of the COVID-19 vaccination in different regions of the UK. The dataframe contains discrete variables because they takes on distinct, countable values.\n",
    "\n",
    "#### A continuous variable is any value that can be measured as decimals or fractions. These are infinitely situated between two values of reference. For example, there are infinite values between 1 and 2\n"
   ]
  },
  {
   "cell_type": "markdown",
   "id": "c4ee3211-2a36-4a61-aeb2-fab90e5e0c3a",
   "metadata": {},
   "source": [
    "### Therefore building a graph visualizing the distribution and relationships of continuous variable is insignificant in the UK vaccination data set"
   ]
  },
  {
   "cell_type": "code",
   "execution_count": null,
   "id": "643ac4c6-e2fa-42de-9399-492bd20f385f",
   "metadata": {},
   "outputs": [],
   "source": []
  },
  {
   "cell_type": "markdown",
   "id": "ed7fd1de-422f-4757-80da-b263c761847f",
   "metadata": {},
   "source": [
    "## Question 4"
   ]
  },
  {
   "cell_type": "markdown",
   "id": "4bded3f5-dd32-49df-9687-0641e31dfc16",
   "metadata": {},
   "source": [
    "#### Display unique values of a categorical variable and their frequencies."
   ]
  },
  {
   "attachments": {},
   "cell_type": "markdown",
   "id": "1e2f9ef5-4050-48c0-b8d3-e254241a9f65",
   "metadata": {},
   "source": [
    "#### categorical variable in the  dataframe includes:\n",
    "\n",
    "* areaName\n",
    "* areaCode\n",
    "* year\n",
    "* month\n",
    "* Quarter\n",
    "* day\n",
    "* WorkingDay\n",
    "* Booster"
   ]
  },
  {
   "cell_type": "code",
   "execution_count": 87,
   "id": "e98a52a7-b1ce-485c-a899-738c4ff7e581",
   "metadata": {},
   "outputs": [
    {
     "data": {
      "image/png": "[encoded data removed]",
      "text/plain": [
       "<Figure size 1500x600 with 1 Axes>"
      ]
     },
     "metadata": {},
     "output_type": "display_data"
    }
   ],
   "source": [
    "plt.figure(figsize=(15, 6))\n",
    "plt1 = uk_vacc.areaName.value_counts().plot(kind='bar')\n",
    "plt.title('UK Vaccination Histogram')\n",
    "plt1.set(xlabel = 'areaName', ylabel='Frequency of year')\n",
    "plt.show()"
   ]
  },
  {
   "cell_type": "code",
   "execution_count": null,
   "id": "1d70a7e4-345a-4d35-bedd-48885e941f37",
   "metadata": {},
   "outputs": [],
   "source": []
  },
  {
   "cell_type": "code",
   "execution_count": 88,
   "id": "6b01d0c3-6ff9-4689-99ed-0a0acfe6de51",
   "metadata": {},
   "outputs": [
    {
     "data": {
      "image/png": "[encoded data removed]",
      "text/plain": [
       "<Figure size 1500x600 with 1 Axes>"
      ]
     },
     "metadata": {},
     "output_type": "display_data"
    }
   ],
   "source": [
    "plt.figure(figsize=(15, 6))\n",
    "plt1 = uk_vacc.year.value_counts().plot(kind='bar')\n",
    "plt.title('UK Vaccination Histogram')\n",
    "plt1.set(xlabel = 'year', ylabel='Frequency of year')\n",
    "plt.show()"
   ]
  },
  {
   "cell_type": "code",
   "execution_count": null,
   "id": "7387d314-dd92-4d72-88a2-0f25da42f2c3",
   "metadata": {},
   "outputs": [],
   "source": []
  },
  {
   "cell_type": "code",
   "execution_count": 89,
   "id": "d3f8a6f2-5ab4-4868-932c-43d2f5feb249",
   "metadata": {},
   "outputs": [
    {
     "data": {
      "image/png": "[encoded data removed]",
      "text/plain": [
       "<Figure size 1500x600 with 1 Axes>"
      ]
     },
     "metadata": {},
     "output_type": "display_data"
    }
   ],
   "source": [
    "plt.figure(figsize=(15, 6))\n",
    "plt1 = uk_vacc.Quarter.value_counts().plot(kind='bar')\n",
    "plt.title('UK Vaccination Histogram')\n",
    "plt1.set(xlabel = 'Quarter', ylabel='Frequency of year')\n",
    "plt.show()"
   ]
  },
  {
   "cell_type": "code",
   "execution_count": null,
   "id": "5b2a7dd6-479c-4e02-bb58-7cc4e2590ffb",
   "metadata": {},
   "outputs": [],
   "source": []
  },
  {
   "cell_type": "code",
   "execution_count": 91,
   "id": "a10ca1fd-300a-46cc-aa96-86f48ddfd624",
   "metadata": {},
   "outputs": [
    {
     "data": {
      "image/png": "[encoded data removed]",
      "text/plain": [
       "<Figure size 1500x600 with 1 Axes>"
      ]
     },
     "metadata": {},
     "output_type": "display_data"
    }
   ],
   "source": [
    "plt.figure(figsize=(15, 6))\n",
    "plt1 = uk_vacc.areaCode.value_counts().plot(kind='bar')\n",
    "plt.title('UK Vaccination Histogram')\n",
    "plt1.set(xlabel = 'areaCode', ylabel='Frequency of year')\n",
    "plt.show()"
   ]
  },
  {
   "cell_type": "code",
   "execution_count": null,
   "id": "94f68056-209b-4a39-b4fa-8283a2350832",
   "metadata": {},
   "outputs": [],
   "source": []
  },
  {
   "cell_type": "code",
   "execution_count": 92,
   "id": "25f1ca3a-c4ed-4240-a7ca-de744a78317d",
   "metadata": {},
   "outputs": [
    {
     "data": {
      "image/png": "[encoded data removed]",
      "text/plain": [
       "<Figure size 1500x600 with 1 Axes>"
      ]
     },
     "metadata": {},
     "output_type": "display_data"
    }
   ],
   "source": [
    "plt.figure(figsize=(15, 6))\n",
    "plt1 = uk_vacc.month.value_counts().plot(kind='bar')\n",
    "plt.title('UK Vaccination Histogram')\n",
    "plt1.set(xlabel = 'month', ylabel='Frequency of year')\n",
    "plt.show()"
   ]
  },
  {
   "cell_type": "code",
   "execution_count": 93,
   "id": "168a5f50-b6aa-4861-bab3-190fd8088e92",
   "metadata": {},
   "outputs": [
    {
     "data": {
      "image/png": "[encoded data removed]",
      "text/plain": [
       "<Figure size 1500x600 with 1 Axes>"
      ]
     },
     "metadata": {},
     "output_type": "display_data"
    }
   ],
   "source": [
    "plt.figure(figsize=(15, 6))\n",
    "plt1 = uk_vacc.day.value_counts().plot(kind='bar')\n",
    "plt.title('UK Vaccination Histogram')\n",
    "plt1.set(xlabel = 'day', ylabel='Frequency of year')\n",
    "plt.show()"
   ]
  },
  {
   "cell_type": "code",
   "execution_count": null,
   "id": "1e94b028-85dc-48fe-8562-b9773641ed0b",
   "metadata": {},
   "outputs": [],
   "source": []
  },
  {
   "cell_type": "code",
   "execution_count": 94,
   "id": "d6fc326c-d6c7-47a8-a91f-6546e14522da",
   "metadata": {},
   "outputs": [
    {
     "data": {
      "image/png": "[encoded data removed]",
      "text/plain": [
       "<Figure size 1500x600 with 1 Axes>"
      ]
     },
     "metadata": {},
     "output_type": "display_data"
    }
   ],
   "source": [
    "plt.figure(figsize=(15, 6))\n",
    "plt1 = uk_vacc.WorkingDay.value_counts().plot(kind='bar')\n",
    "plt.title('UK Vaccination Histogram')\n",
    "plt1.set(xlabel = 'WorkingDay', ylabel='Frequency of year')\n",
    "plt.show()"
   ]
  },
  {
   "cell_type": "code",
   "execution_count": null,
   "id": "434e53a7-e344-4876-a7b2-221d3d5796a7",
   "metadata": {},
   "outputs": [],
   "source": []
  },
  {
   "cell_type": "code",
   "execution_count": null,
   "id": "a1e88e73-e7a3-4823-b1e6-fa312467d039",
   "metadata": {},
   "outputs": [],
   "source": [
    "plt.figure(figsize=(15, 6))\n",
    "plt1 = uk_vacc.Booster.value_counts().plot(kind='bar')\n",
    "plt.title('UK Vaccination Histogram')\n",
    "plt1.set(xlabel = 'Booster', ylabel='Frequency of year')\n",
    "plt.show()"
   ]
  },
  {
   "cell_type": "code",
   "execution_count": null,
   "id": "0951fabd-0f86-4f92-9203-77da9637ef80",
   "metadata": {},
   "outputs": [],
   "source": []
  },
  {
   "cell_type": "markdown",
   "id": "32b9aef2-e1c7-4144-a813-53523519fbcc",
   "metadata": {},
   "source": [
    "### Question 5\n",
    "\n",
    "Build a contingency table of two potentially related categorical variables. Conduct a statistical test of the independence between them and interpret the results"
   ]
  },
  {
   "cell_type": "code",
   "execution_count": 103,
   "id": "6d5d0a92-2b0d-42f8-9dfc-2997a8295f4f",
   "metadata": {},
   "outputs": [],
   "source": [
    "# plt.figure(figsize=(15, 6))\n",
    "\n",
    "# plt.subplot(1,2,1)\n",
    "# plt.title('areaName Histogram')\n",
    "# sns.countplot(uk_vacc.areaName)\n",
    "\n",
    "# plt.subplot(1,2,2)\n",
    "# plt.title('areaName vs WorkingDay')\n",
    "# (sns.boxplot(x=uk_vacc.areaName, y=uk_vacc.WorkingDay).tick_params(axis='y', labelsize=7))\n",
    "\n",
    "# # plt.show()"
   ]
  },
  {
   "cell_type": "code",
   "execution_count": null,
   "id": "d8665bd1-e6c5-4b65-a282-e93cbf10a92a",
   "metadata": {},
   "outputs": [],
   "source": []
  }
 ],
 "metadata": {
  "kernelspec": {
   "display_name": "Python 3 (ipykernel)",
   "language": "python",
   "name": "python3"
  },
  "language_info": {
   "codemirror_mode": {
    "name": "ipython",
    "version": 3
   },
   "file_extension": ".py",
   "mimetype": "text/x-python",
   "name": "python",
   "nbconvert_exporter": "python",
   "pygments_lexer": "ipython3",
   "version": "3.12.3"
  }
 },
 "nbformat": 4,
 "nbformat_minor": 5
}
