{
 "cells": [
  {
   "cell_type": "code",
   "execution_count": 60,
   "id": "0948df86-2982-49d7-95d3-d5a9c8354f60",
   "metadata": {},
   "outputs": [],
   "source": [
    "import numpy as np\n",
    "import pandas as pd\n",
    "import matplotlib.pyplot as plt\n",
    "import seaborn as sns"
   ]
  },
  {
   "cell_type": "code",
   "execution_count": 61,
   "id": "fa94eefa-5d23-4e28-8c75-a96d81de7496",
   "metadata": {},
   "outputs": [],
   "source": [
    "df=pd.read_csv('202404-divvy-tripdata.csv')"
   ]
  },
  {
   "cell_type": "code",
   "execution_count": null,
   "id": "db4fbe02-b98e-4f28-b3e9-fd174157c9ee",
   "metadata": {},
   "outputs": [],
   "source": []
  },
  {
   "cell_type": "code",
   "execution_count": 62,
   "id": "bb130e28-b5ba-432e-8044-8f846dcd8fef",
   "metadata": {},
   "outputs": [
    {
     "data": {
      "text/html": [
       "<div>\n",
       "<style scoped>\n",
       "    .dataframe tbody tr th:only-of-type {\n",
       "        vertical-align: middle;\n",
       "    }\n",
       "\n",
       "    .dataframe tbody tr th {\n",
       "        vertical-align: top;\n",
       "    }\n",
       "\n",
       "    .dataframe thead th {\n",
       "        text-align: right;\n",
       "    }\n",
       "</style>\n",
       "<table border=\"1\" class=\"dataframe\">\n",
       "  <thead>\n",
       "    <tr style=\"text-align: right;\">\n",
       "      <th></th>\n",
       "      <th>ride_id</th>\n",
       "      <th>rideable_type</th>\n",
       "      <th>started_at</th>\n",
       "      <th>ended_at</th>\n",
       "      <th>start_station_name</th>\n",
       "      <th>start_station_id</th>\n",
       "      <th>end_station_name</th>\n",
       "      <th>end_station_id</th>\n",
       "      <th>start_lat</th>\n",
       "      <th>start_lng</th>\n",
       "      <th>end_lat</th>\n",
       "      <th>end_lng</th>\n",
       "      <th>member_casual</th>\n",
       "    </tr>\n",
       "  </thead>\n",
       "  <tbody>\n",
       "    <tr>\n",
       "      <th>0</th>\n",
       "      <td>743252713F32516B</td>\n",
       "      <td>classic_bike</td>\n",
       "      <td>2024-04-22 19:08:21</td>\n",
       "      <td>2024-04-22 19:12:56</td>\n",
       "      <td>Aberdeen St &amp; Jackson Blvd</td>\n",
       "      <td>13157</td>\n",
       "      <td>Desplaines St &amp; Jackson Blvd</td>\n",
       "      <td>15539</td>\n",
       "      <td>41.877726</td>\n",
       "      <td>-87.654787</td>\n",
       "      <td>41.878119</td>\n",
       "      <td>-87.643948</td>\n",
       "      <td>member</td>\n",
       "    </tr>\n",
       "    <tr>\n",
       "      <th>1</th>\n",
       "      <td>BE90D33D2240C614</td>\n",
       "      <td>electric_bike</td>\n",
       "      <td>2024-04-11 06:19:24</td>\n",
       "      <td>2024-04-11 06:22:21</td>\n",
       "      <td>Aberdeen St &amp; Jackson Blvd</td>\n",
       "      <td>13157</td>\n",
       "      <td>Desplaines St &amp; Jackson Blvd</td>\n",
       "      <td>15539</td>\n",
       "      <td>41.877722</td>\n",
       "      <td>-87.654959</td>\n",
       "      <td>41.878119</td>\n",
       "      <td>-87.643948</td>\n",
       "      <td>member</td>\n",
       "    </tr>\n",
       "    <tr>\n",
       "      <th>2</th>\n",
       "      <td>D47BBDDE7C40DD61</td>\n",
       "      <td>classic_bike</td>\n",
       "      <td>2024-04-20 11:13:13</td>\n",
       "      <td>2024-04-20 11:29:31</td>\n",
       "      <td>Sheridan Rd &amp; Montrose Ave</td>\n",
       "      <td>TA1307000107</td>\n",
       "      <td>Ashland Ave &amp; Belle Plaine Ave</td>\n",
       "      <td>13249</td>\n",
       "      <td>41.961670</td>\n",
       "      <td>-87.654640</td>\n",
       "      <td>41.956057</td>\n",
       "      <td>-87.668835</td>\n",
       "      <td>member</td>\n",
       "    </tr>\n",
       "    <tr>\n",
       "      <th>3</th>\n",
       "      <td>6684E760BF9EA9B5</td>\n",
       "      <td>classic_bike</td>\n",
       "      <td>2024-04-04 18:39:20</td>\n",
       "      <td>2024-04-04 18:43:06</td>\n",
       "      <td>Aberdeen St &amp; Jackson Blvd</td>\n",
       "      <td>13157</td>\n",
       "      <td>Desplaines St &amp; Jackson Blvd</td>\n",
       "      <td>15539</td>\n",
       "      <td>41.877726</td>\n",
       "      <td>-87.654787</td>\n",
       "      <td>41.878119</td>\n",
       "      <td>-87.643948</td>\n",
       "      <td>member</td>\n",
       "    </tr>\n",
       "    <tr>\n",
       "      <th>4</th>\n",
       "      <td>CA9EFC0D24C24A27</td>\n",
       "      <td>electric_bike</td>\n",
       "      <td>2024-04-19 19:30:20</td>\n",
       "      <td>2024-04-19 20:07:42</td>\n",
       "      <td>Sheridan Rd &amp; Montrose Ave</td>\n",
       "      <td>TA1307000107</td>\n",
       "      <td>Stetson Ave &amp; South Water St</td>\n",
       "      <td>TA1308000029</td>\n",
       "      <td>41.961613</td>\n",
       "      <td>-87.654615</td>\n",
       "      <td>41.886835</td>\n",
       "      <td>-87.622320</td>\n",
       "      <td>member</td>\n",
       "    </tr>\n",
       "  </tbody>\n",
       "</table>\n",
       "</div>"
      ],
      "text/plain": [
       "            ride_id  rideable_type           started_at             ended_at  \\\n",
       "0  743252713F32516B   classic_bike  2024-04-22 19:08:21  2024-04-22 19:12:56   \n",
       "1  BE90D33D2240C614  electric_bike  2024-04-11 06:19:24  2024-04-11 06:22:21   \n",
       "2  D47BBDDE7C40DD61   classic_bike  2024-04-20 11:13:13  2024-04-20 11:29:31   \n",
       "3  6684E760BF9EA9B5   classic_bike  2024-04-04 18:39:20  2024-04-04 18:43:06   \n",
       "4  CA9EFC0D24C24A27  electric_bike  2024-04-19 19:30:20  2024-04-19 20:07:42   \n",
       "\n",
       "           start_station_name start_station_id  \\\n",
       "0  Aberdeen St & Jackson Blvd            13157   \n",
       "1  Aberdeen St & Jackson Blvd            13157   \n",
       "2  Sheridan Rd & Montrose Ave     TA1307000107   \n",
       "3  Aberdeen St & Jackson Blvd            13157   \n",
       "4  Sheridan Rd & Montrose Ave     TA1307000107   \n",
       "\n",
       "                 end_station_name end_station_id  start_lat  start_lng  \\\n",
       "0    Desplaines St & Jackson Blvd          15539  41.877726 -87.654787   \n",
       "1    Desplaines St & Jackson Blvd          15539  41.877722 -87.654959   \n",
       "2  Ashland Ave & Belle Plaine Ave          13249  41.961670 -87.654640   \n",
       "3    Desplaines St & Jackson Blvd          15539  41.877726 -87.654787   \n",
       "4    Stetson Ave & South Water St   TA1308000029  41.961613 -87.654615   \n",
       "\n",
       "     end_lat    end_lng member_casual  \n",
       "0  41.878119 -87.643948        member  \n",
       "1  41.878119 -87.643948        member  \n",
       "2  41.956057 -87.668835        member  \n",
       "3  41.878119 -87.643948        member  \n",
       "4  41.886835 -87.622320        member  "
      ]
     },
     "execution_count": 62,
     "metadata": {},
     "output_type": "execute_result"
    }
   ],
   "source": [
    "df.head()"
   ]
  },
  {
   "cell_type": "code",
   "execution_count": 41,
   "id": "bb95d38a-2439-48e8-959b-feb831224d6b",
   "metadata": {
    "scrolled": true
   },
   "outputs": [
    {
     "data": {
      "text/plain": [
       "ride_id                   0\n",
       "rideable_type             0\n",
       "started_at                0\n",
       "ended_at                  0\n",
       "start_station_name    74793\n",
       "start_station_id      74793\n",
       "end_station_name      78519\n",
       "end_station_id        78519\n",
       "start_lat                 0\n",
       "start_lng                 0\n",
       "end_lat                 479\n",
       "end_lng                 479\n",
       "member_casual             0\n",
       "dtype: int64"
      ]
     },
     "execution_count": 41,
     "metadata": {},
     "output_type": "execute_result"
    }
   ],
   "source": [
    "df.isna().sum()"
   ]
  },
  {
   "cell_type": "code",
   "execution_count": 63,
   "id": "af9ecb9c-b682-4379-993b-39459a9aee48",
   "metadata": {},
   "outputs": [
    {
     "data": {
      "text/plain": [
       "74793"
      ]
     },
     "execution_count": 63,
     "metadata": {},
     "output_type": "execute_result"
    }
   ],
   "source": [
    "df[\"start_station_name\"].isna().sum()"
   ]
  },
  {
   "cell_type": "code",
   "execution_count": 64,
   "id": "5f4153f0-660d-46d5-82a2-8c9665e866af",
   "metadata": {},
   "outputs": [
    {
     "data": {
      "text/plain": [
       "415025"
      ]
     },
     "execution_count": 64,
     "metadata": {},
     "output_type": "execute_result"
    }
   ],
   "source": [
    "len(df[\"start_station_name\"])"
   ]
  },
  {
   "cell_type": "code",
   "execution_count": 65,
   "id": "ab5dc397-083c-425f-838b-cff90752b65f",
   "metadata": {},
   "outputs": [
    {
     "data": {
      "text/plain": [
       "18.021324016625503"
      ]
     },
     "execution_count": 65,
     "metadata": {},
     "output_type": "execute_result"
    }
   ],
   "source": [
    "df[\"start_station_name\"].isna().sum()/len(df[\"start_station_name\"]) *100"
   ]
  },
  {
   "cell_type": "code",
   "execution_count": 66,
   "id": "951ffd96-5e44-4062-99bc-386e81d7c7e0",
   "metadata": {},
   "outputs": [
    {
     "data": {
      "text/html": [
       "<div>\n",
       "<style scoped>\n",
       "    .dataframe tbody tr th:only-of-type {\n",
       "        vertical-align: middle;\n",
       "    }\n",
       "\n",
       "    .dataframe tbody tr th {\n",
       "        vertical-align: top;\n",
       "    }\n",
       "\n",
       "    .dataframe thead th {\n",
       "        text-align: right;\n",
       "    }\n",
       "</style>\n",
       "<table border=\"1\" class=\"dataframe\">\n",
       "  <thead>\n",
       "    <tr style=\"text-align: right;\">\n",
       "      <th></th>\n",
       "      <th>ride_id</th>\n",
       "      <th>rideable_type</th>\n",
       "      <th>started_at</th>\n",
       "      <th>ended_at</th>\n",
       "      <th>start_station_name</th>\n",
       "      <th>end_station_name</th>\n",
       "      <th>start_lat</th>\n",
       "      <th>start_lng</th>\n",
       "      <th>end_lat</th>\n",
       "      <th>end_lng</th>\n",
       "      <th>member_casual</th>\n",
       "    </tr>\n",
       "  </thead>\n",
       "  <tbody>\n",
       "    <tr>\n",
       "      <th>0</th>\n",
       "      <td>743252713F32516B</td>\n",
       "      <td>classic_bike</td>\n",
       "      <td>2024-04-22 19:08:21</td>\n",
       "      <td>2024-04-22 19:12:56</td>\n",
       "      <td>Aberdeen St &amp; Jackson Blvd</td>\n",
       "      <td>Desplaines St &amp; Jackson Blvd</td>\n",
       "      <td>41.877726</td>\n",
       "      <td>-87.654787</td>\n",
       "      <td>41.878119</td>\n",
       "      <td>-87.643948</td>\n",
       "      <td>member</td>\n",
       "    </tr>\n",
       "    <tr>\n",
       "      <th>1</th>\n",
       "      <td>BE90D33D2240C614</td>\n",
       "      <td>electric_bike</td>\n",
       "      <td>2024-04-11 06:19:24</td>\n",
       "      <td>2024-04-11 06:22:21</td>\n",
       "      <td>Aberdeen St &amp; Jackson Blvd</td>\n",
       "      <td>Desplaines St &amp; Jackson Blvd</td>\n",
       "      <td>41.877722</td>\n",
       "      <td>-87.654959</td>\n",
       "      <td>41.878119</td>\n",
       "      <td>-87.643948</td>\n",
       "      <td>member</td>\n",
       "    </tr>\n",
       "    <tr>\n",
       "      <th>2</th>\n",
       "      <td>D47BBDDE7C40DD61</td>\n",
       "      <td>classic_bike</td>\n",
       "      <td>2024-04-20 11:13:13</td>\n",
       "      <td>2024-04-20 11:29:31</td>\n",
       "      <td>Sheridan Rd &amp; Montrose Ave</td>\n",
       "      <td>Ashland Ave &amp; Belle Plaine Ave</td>\n",
       "      <td>41.961670</td>\n",
       "      <td>-87.654640</td>\n",
       "      <td>41.956057</td>\n",
       "      <td>-87.668835</td>\n",
       "      <td>member</td>\n",
       "    </tr>\n",
       "    <tr>\n",
       "      <th>3</th>\n",
       "      <td>6684E760BF9EA9B5</td>\n",
       "      <td>classic_bike</td>\n",
       "      <td>2024-04-04 18:39:20</td>\n",
       "      <td>2024-04-04 18:43:06</td>\n",
       "      <td>Aberdeen St &amp; Jackson Blvd</td>\n",
       "      <td>Desplaines St &amp; Jackson Blvd</td>\n",
       "      <td>41.877726</td>\n",
       "      <td>-87.654787</td>\n",
       "      <td>41.878119</td>\n",
       "      <td>-87.643948</td>\n",
       "      <td>member</td>\n",
       "    </tr>\n",
       "    <tr>\n",
       "      <th>4</th>\n",
       "      <td>CA9EFC0D24C24A27</td>\n",
       "      <td>electric_bike</td>\n",
       "      <td>2024-04-19 19:30:20</td>\n",
       "      <td>2024-04-19 20:07:42</td>\n",
       "      <td>Sheridan Rd &amp; Montrose Ave</td>\n",
       "      <td>Stetson Ave &amp; South Water St</td>\n",
       "      <td>41.961613</td>\n",
       "      <td>-87.654615</td>\n",
       "      <td>41.886835</td>\n",
       "      <td>-87.622320</td>\n",
       "      <td>member</td>\n",
       "    </tr>\n",
       "    <tr>\n",
       "      <th>...</th>\n",
       "      <td>...</td>\n",
       "      <td>...</td>\n",
       "      <td>...</td>\n",
       "      <td>...</td>\n",
       "      <td>...</td>\n",
       "      <td>...</td>\n",
       "      <td>...</td>\n",
       "      <td>...</td>\n",
       "      <td>...</td>\n",
       "      <td>...</td>\n",
       "      <td>...</td>\n",
       "    </tr>\n",
       "    <tr>\n",
       "      <th>415020</th>\n",
       "      <td>5E41443305C3B8A0</td>\n",
       "      <td>classic_bike</td>\n",
       "      <td>2024-04-06 13:40:56</td>\n",
       "      <td>2024-04-07 14:40:49</td>\n",
       "      <td>Clark St &amp; Lincoln Ave</td>\n",
       "      <td>NaN</td>\n",
       "      <td>41.915689</td>\n",
       "      <td>-87.634600</td>\n",
       "      <td>NaN</td>\n",
       "      <td>NaN</td>\n",
       "      <td>casual</td>\n",
       "    </tr>\n",
       "    <tr>\n",
       "      <th>415021</th>\n",
       "      <td>50A275230D6C0492</td>\n",
       "      <td>classic_bike</td>\n",
       "      <td>2024-04-01 19:03:43</td>\n",
       "      <td>2024-04-01 19:13:16</td>\n",
       "      <td>California Ave &amp; Cortez St</td>\n",
       "      <td>California Ave &amp; Milwaukee Ave</td>\n",
       "      <td>41.900363</td>\n",
       "      <td>-87.696704</td>\n",
       "      <td>41.922695</td>\n",
       "      <td>-87.697153</td>\n",
       "      <td>member</td>\n",
       "    </tr>\n",
       "    <tr>\n",
       "      <th>415022</th>\n",
       "      <td>A88F756403FBF27F</td>\n",
       "      <td>electric_bike</td>\n",
       "      <td>2024-04-11 16:09:50</td>\n",
       "      <td>2024-04-11 16:26:07</td>\n",
       "      <td>Clinton St &amp; Washington Blvd</td>\n",
       "      <td>NaN</td>\n",
       "      <td>41.883498</td>\n",
       "      <td>-87.641576</td>\n",
       "      <td>41.910000</td>\n",
       "      <td>-87.680000</td>\n",
       "      <td>member</td>\n",
       "    </tr>\n",
       "    <tr>\n",
       "      <th>415023</th>\n",
       "      <td>DFD402AC5915F136</td>\n",
       "      <td>electric_bike</td>\n",
       "      <td>2024-04-19 07:20:28</td>\n",
       "      <td>2024-04-19 07:30:05</td>\n",
       "      <td>Clinton St &amp; Washington Blvd</td>\n",
       "      <td>NaN</td>\n",
       "      <td>41.883169</td>\n",
       "      <td>-87.641127</td>\n",
       "      <td>41.890000</td>\n",
       "      <td>-87.620000</td>\n",
       "      <td>member</td>\n",
       "    </tr>\n",
       "    <tr>\n",
       "      <th>415024</th>\n",
       "      <td>61F035E8DCBB5313</td>\n",
       "      <td>electric_bike</td>\n",
       "      <td>2024-04-16 15:53:32</td>\n",
       "      <td>2024-04-16 16:15:20</td>\n",
       "      <td>Clinton St &amp; Washington Blvd</td>\n",
       "      <td>NaN</td>\n",
       "      <td>41.883394</td>\n",
       "      <td>-87.641219</td>\n",
       "      <td>41.920000</td>\n",
       "      <td>-87.660000</td>\n",
       "      <td>member</td>\n",
       "    </tr>\n",
       "  </tbody>\n",
       "</table>\n",
       "<p>415025 rows × 11 columns</p>\n",
       "</div>"
      ],
      "text/plain": [
       "                 ride_id  rideable_type           started_at  \\\n",
       "0       743252713F32516B   classic_bike  2024-04-22 19:08:21   \n",
       "1       BE90D33D2240C614  electric_bike  2024-04-11 06:19:24   \n",
       "2       D47BBDDE7C40DD61   classic_bike  2024-04-20 11:13:13   \n",
       "3       6684E760BF9EA9B5   classic_bike  2024-04-04 18:39:20   \n",
       "4       CA9EFC0D24C24A27  electric_bike  2024-04-19 19:30:20   \n",
       "...                  ...            ...                  ...   \n",
       "415020  5E41443305C3B8A0   classic_bike  2024-04-06 13:40:56   \n",
       "415021  50A275230D6C0492   classic_bike  2024-04-01 19:03:43   \n",
       "415022  A88F756403FBF27F  electric_bike  2024-04-11 16:09:50   \n",
       "415023  DFD402AC5915F136  electric_bike  2024-04-19 07:20:28   \n",
       "415024  61F035E8DCBB5313  electric_bike  2024-04-16 15:53:32   \n",
       "\n",
       "                   ended_at            start_station_name  \\\n",
       "0       2024-04-22 19:12:56    Aberdeen St & Jackson Blvd   \n",
       "1       2024-04-11 06:22:21    Aberdeen St & Jackson Blvd   \n",
       "2       2024-04-20 11:29:31    Sheridan Rd & Montrose Ave   \n",
       "3       2024-04-04 18:43:06    Aberdeen St & Jackson Blvd   \n",
       "4       2024-04-19 20:07:42    Sheridan Rd & Montrose Ave   \n",
       "...                     ...                           ...   \n",
       "415020  2024-04-07 14:40:49        Clark St & Lincoln Ave   \n",
       "415021  2024-04-01 19:13:16    California Ave & Cortez St   \n",
       "415022  2024-04-11 16:26:07  Clinton St & Washington Blvd   \n",
       "415023  2024-04-19 07:30:05  Clinton St & Washington Blvd   \n",
       "415024  2024-04-16 16:15:20  Clinton St & Washington Blvd   \n",
       "\n",
       "                      end_station_name  start_lat  start_lng    end_lat  \\\n",
       "0         Desplaines St & Jackson Blvd  41.877726 -87.654787  41.878119   \n",
       "1         Desplaines St & Jackson Blvd  41.877722 -87.654959  41.878119   \n",
       "2       Ashland Ave & Belle Plaine Ave  41.961670 -87.654640  41.956057   \n",
       "3         Desplaines St & Jackson Blvd  41.877726 -87.654787  41.878119   \n",
       "4         Stetson Ave & South Water St  41.961613 -87.654615  41.886835   \n",
       "...                                ...        ...        ...        ...   \n",
       "415020                             NaN  41.915689 -87.634600        NaN   \n",
       "415021  California Ave & Milwaukee Ave  41.900363 -87.696704  41.922695   \n",
       "415022                             NaN  41.883498 -87.641576  41.910000   \n",
       "415023                             NaN  41.883169 -87.641127  41.890000   \n",
       "415024                             NaN  41.883394 -87.641219  41.920000   \n",
       "\n",
       "          end_lng member_casual  \n",
       "0      -87.643948        member  \n",
       "1      -87.643948        member  \n",
       "2      -87.668835        member  \n",
       "3      -87.643948        member  \n",
       "4      -87.622320        member  \n",
       "...           ...           ...  \n",
       "415020        NaN        casual  \n",
       "415021 -87.697153        member  \n",
       "415022 -87.680000        member  \n",
       "415023 -87.620000        member  \n",
       "415024 -87.660000        member  \n",
       "\n",
       "[415025 rows x 11 columns]"
      ]
     },
     "execution_count": 66,
     "metadata": {},
     "output_type": "execute_result"
    }
   ],
   "source": [
    "df.drop([\"start_station_id\",\"end_station_id\"] , axis=1)"
   ]
  },
  {
   "cell_type": "code",
   "execution_count": 67,
   "id": "d7df29f0-df1e-4a3f-9087-82f5e03f2850",
   "metadata": {},
   "outputs": [
    {
     "data": {
      "text/plain": [
       "(415025, 13)"
      ]
     },
     "execution_count": 67,
     "metadata": {},
     "output_type": "execute_result"
    }
   ],
   "source": [
    "df.shape"
   ]
  },
  {
   "cell_type": "code",
   "execution_count": 68,
   "id": "895851bd-b6f5-4d18-ac90-6350fc99a36c",
   "metadata": {},
   "outputs": [],
   "source": [
    "df1=df.set_index(\"ride_id\")"
   ]
  },
  {
   "cell_type": "code",
   "execution_count": 58,
   "id": "bfcfbf72-d1bf-4fb5-a2cb-cb6a7d09ca7c",
   "metadata": {},
   "outputs": [
    {
     "data": {
      "text/html": [
       "<div>\n",
       "<style scoped>\n",
       "    .dataframe tbody tr th:only-of-type {\n",
       "        vertical-align: middle;\n",
       "    }\n",
       "\n",
       "    .dataframe tbody tr th {\n",
       "        vertical-align: top;\n",
       "    }\n",
       "\n",
       "    .dataframe thead th {\n",
       "        text-align: right;\n",
       "    }\n",
       "</style>\n",
       "<table border=\"1\" class=\"dataframe\">\n",
       "  <thead>\n",
       "    <tr style=\"text-align: right;\">\n",
       "      <th></th>\n",
       "      <th>rideable_type</th>\n",
       "      <th>started_at</th>\n",
       "      <th>ended_at</th>\n",
       "      <th>start_station_name</th>\n",
       "      <th>start_station_id</th>\n",
       "      <th>end_station_name</th>\n",
       "      <th>end_station_id</th>\n",
       "      <th>start_lat</th>\n",
       "      <th>start_lng</th>\n",
       "      <th>end_lat</th>\n",
       "      <th>end_lng</th>\n",
       "      <th>member_casual</th>\n",
       "    </tr>\n",
       "    <tr>\n",
       "      <th>ride_id</th>\n",
       "      <th></th>\n",
       "      <th></th>\n",
       "      <th></th>\n",
       "      <th></th>\n",
       "      <th></th>\n",
       "      <th></th>\n",
       "      <th></th>\n",
       "      <th></th>\n",
       "      <th></th>\n",
       "      <th></th>\n",
       "      <th></th>\n",
       "      <th></th>\n",
       "    </tr>\n",
       "  </thead>\n",
       "  <tbody>\n",
       "    <tr>\n",
       "      <th>743252713F32516B</th>\n",
       "      <td>classic_bike</td>\n",
       "      <td>2024-04-22 19:08:21</td>\n",
       "      <td>2024-04-22 19:12:56</td>\n",
       "      <td>Aberdeen St &amp; Jackson Blvd</td>\n",
       "      <td>13157</td>\n",
       "      <td>Desplaines St &amp; Jackson Blvd</td>\n",
       "      <td>15539</td>\n",
       "      <td>41.877726</td>\n",
       "      <td>-87.654787</td>\n",
       "      <td>41.878119</td>\n",
       "      <td>-87.643948</td>\n",
       "      <td>member</td>\n",
       "    </tr>\n",
       "    <tr>\n",
       "      <th>BE90D33D2240C614</th>\n",
       "      <td>electric_bike</td>\n",
       "      <td>2024-04-11 06:19:24</td>\n",
       "      <td>2024-04-11 06:22:21</td>\n",
       "      <td>Aberdeen St &amp; Jackson Blvd</td>\n",
       "      <td>13157</td>\n",
       "      <td>Desplaines St &amp; Jackson Blvd</td>\n",
       "      <td>15539</td>\n",
       "      <td>41.877722</td>\n",
       "      <td>-87.654959</td>\n",
       "      <td>41.878119</td>\n",
       "      <td>-87.643948</td>\n",
       "      <td>member</td>\n",
       "    </tr>\n",
       "    <tr>\n",
       "      <th>D47BBDDE7C40DD61</th>\n",
       "      <td>classic_bike</td>\n",
       "      <td>2024-04-20 11:13:13</td>\n",
       "      <td>2024-04-20 11:29:31</td>\n",
       "      <td>Sheridan Rd &amp; Montrose Ave</td>\n",
       "      <td>TA1307000107</td>\n",
       "      <td>Ashland Ave &amp; Belle Plaine Ave</td>\n",
       "      <td>13249</td>\n",
       "      <td>41.961670</td>\n",
       "      <td>-87.654640</td>\n",
       "      <td>41.956057</td>\n",
       "      <td>-87.668835</td>\n",
       "      <td>member</td>\n",
       "    </tr>\n",
       "    <tr>\n",
       "      <th>6684E760BF9EA9B5</th>\n",
       "      <td>classic_bike</td>\n",
       "      <td>2024-04-04 18:39:20</td>\n",
       "      <td>2024-04-04 18:43:06</td>\n",
       "      <td>Aberdeen St &amp; Jackson Blvd</td>\n",
       "      <td>13157</td>\n",
       "      <td>Desplaines St &amp; Jackson Blvd</td>\n",
       "      <td>15539</td>\n",
       "      <td>41.877726</td>\n",
       "      <td>-87.654787</td>\n",
       "      <td>41.878119</td>\n",
       "      <td>-87.643948</td>\n",
       "      <td>member</td>\n",
       "    </tr>\n",
       "    <tr>\n",
       "      <th>CA9EFC0D24C24A27</th>\n",
       "      <td>electric_bike</td>\n",
       "      <td>2024-04-19 19:30:20</td>\n",
       "      <td>2024-04-19 20:07:42</td>\n",
       "      <td>Sheridan Rd &amp; Montrose Ave</td>\n",
       "      <td>TA1307000107</td>\n",
       "      <td>Stetson Ave &amp; South Water St</td>\n",
       "      <td>TA1308000029</td>\n",
       "      <td>41.961613</td>\n",
       "      <td>-87.654615</td>\n",
       "      <td>41.886835</td>\n",
       "      <td>-87.622320</td>\n",
       "      <td>member</td>\n",
       "    </tr>\n",
       "    <tr>\n",
       "      <th>...</th>\n",
       "      <td>...</td>\n",
       "      <td>...</td>\n",
       "      <td>...</td>\n",
       "      <td>...</td>\n",
       "      <td>...</td>\n",
       "      <td>...</td>\n",
       "      <td>...</td>\n",
       "      <td>...</td>\n",
       "      <td>...</td>\n",
       "      <td>...</td>\n",
       "      <td>...</td>\n",
       "      <td>...</td>\n",
       "    </tr>\n",
       "    <tr>\n",
       "      <th>5E41443305C3B8A0</th>\n",
       "      <td>classic_bike</td>\n",
       "      <td>2024-04-06 13:40:56</td>\n",
       "      <td>2024-04-07 14:40:49</td>\n",
       "      <td>Clark St &amp; Lincoln Ave</td>\n",
       "      <td>13179</td>\n",
       "      <td>NaN</td>\n",
       "      <td>NaN</td>\n",
       "      <td>41.915689</td>\n",
       "      <td>-87.634600</td>\n",
       "      <td>NaN</td>\n",
       "      <td>NaN</td>\n",
       "      <td>casual</td>\n",
       "    </tr>\n",
       "    <tr>\n",
       "      <th>50A275230D6C0492</th>\n",
       "      <td>classic_bike</td>\n",
       "      <td>2024-04-01 19:03:43</td>\n",
       "      <td>2024-04-01 19:13:16</td>\n",
       "      <td>California Ave &amp; Cortez St</td>\n",
       "      <td>17660</td>\n",
       "      <td>California Ave &amp; Milwaukee Ave</td>\n",
       "      <td>13084</td>\n",
       "      <td>41.900363</td>\n",
       "      <td>-87.696704</td>\n",
       "      <td>41.922695</td>\n",
       "      <td>-87.697153</td>\n",
       "      <td>member</td>\n",
       "    </tr>\n",
       "    <tr>\n",
       "      <th>A88F756403FBF27F</th>\n",
       "      <td>electric_bike</td>\n",
       "      <td>2024-04-11 16:09:50</td>\n",
       "      <td>2024-04-11 16:26:07</td>\n",
       "      <td>Clinton St &amp; Washington Blvd</td>\n",
       "      <td>WL-012</td>\n",
       "      <td>NaN</td>\n",
       "      <td>NaN</td>\n",
       "      <td>41.883498</td>\n",
       "      <td>-87.641576</td>\n",
       "      <td>41.910000</td>\n",
       "      <td>-87.680000</td>\n",
       "      <td>member</td>\n",
       "    </tr>\n",
       "    <tr>\n",
       "      <th>DFD402AC5915F136</th>\n",
       "      <td>electric_bike</td>\n",
       "      <td>2024-04-19 07:20:28</td>\n",
       "      <td>2024-04-19 07:30:05</td>\n",
       "      <td>Clinton St &amp; Washington Blvd</td>\n",
       "      <td>WL-012</td>\n",
       "      <td>NaN</td>\n",
       "      <td>NaN</td>\n",
       "      <td>41.883169</td>\n",
       "      <td>-87.641127</td>\n",
       "      <td>41.890000</td>\n",
       "      <td>-87.620000</td>\n",
       "      <td>member</td>\n",
       "    </tr>\n",
       "    <tr>\n",
       "      <th>61F035E8DCBB5313</th>\n",
       "      <td>electric_bike</td>\n",
       "      <td>2024-04-16 15:53:32</td>\n",
       "      <td>2024-04-16 16:15:20</td>\n",
       "      <td>Clinton St &amp; Washington Blvd</td>\n",
       "      <td>WL-012</td>\n",
       "      <td>NaN</td>\n",
       "      <td>NaN</td>\n",
       "      <td>41.883394</td>\n",
       "      <td>-87.641219</td>\n",
       "      <td>41.920000</td>\n",
       "      <td>-87.660000</td>\n",
       "      <td>member</td>\n",
       "    </tr>\n",
       "  </tbody>\n",
       "</table>\n",
       "<p>415025 rows × 12 columns</p>\n",
       "</div>"
      ],
      "text/plain": [
       "                  rideable_type           started_at             ended_at  \\\n",
       "ride_id                                                                     \n",
       "743252713F32516B   classic_bike  2024-04-22 19:08:21  2024-04-22 19:12:56   \n",
       "BE90D33D2240C614  electric_bike  2024-04-11 06:19:24  2024-04-11 06:22:21   \n",
       "D47BBDDE7C40DD61   classic_bike  2024-04-20 11:13:13  2024-04-20 11:29:31   \n",
       "6684E760BF9EA9B5   classic_bike  2024-04-04 18:39:20  2024-04-04 18:43:06   \n",
       "CA9EFC0D24C24A27  electric_bike  2024-04-19 19:30:20  2024-04-19 20:07:42   \n",
       "...                         ...                  ...                  ...   \n",
       "5E41443305C3B8A0   classic_bike  2024-04-06 13:40:56  2024-04-07 14:40:49   \n",
       "50A275230D6C0492   classic_bike  2024-04-01 19:03:43  2024-04-01 19:13:16   \n",
       "A88F756403FBF27F  electric_bike  2024-04-11 16:09:50  2024-04-11 16:26:07   \n",
       "DFD402AC5915F136  electric_bike  2024-04-19 07:20:28  2024-04-19 07:30:05   \n",
       "61F035E8DCBB5313  electric_bike  2024-04-16 15:53:32  2024-04-16 16:15:20   \n",
       "\n",
       "                            start_station_name start_station_id  \\\n",
       "ride_id                                                           \n",
       "743252713F32516B    Aberdeen St & Jackson Blvd            13157   \n",
       "BE90D33D2240C614    Aberdeen St & Jackson Blvd            13157   \n",
       "D47BBDDE7C40DD61    Sheridan Rd & Montrose Ave     TA1307000107   \n",
       "6684E760BF9EA9B5    Aberdeen St & Jackson Blvd            13157   \n",
       "CA9EFC0D24C24A27    Sheridan Rd & Montrose Ave     TA1307000107   \n",
       "...                                        ...              ...   \n",
       "5E41443305C3B8A0        Clark St & Lincoln Ave            13179   \n",
       "50A275230D6C0492    California Ave & Cortez St            17660   \n",
       "A88F756403FBF27F  Clinton St & Washington Blvd           WL-012   \n",
       "DFD402AC5915F136  Clinton St & Washington Blvd           WL-012   \n",
       "61F035E8DCBB5313  Clinton St & Washington Blvd           WL-012   \n",
       "\n",
       "                                end_station_name end_station_id  start_lat  \\\n",
       "ride_id                                                                      \n",
       "743252713F32516B    Desplaines St & Jackson Blvd          15539  41.877726   \n",
       "BE90D33D2240C614    Desplaines St & Jackson Blvd          15539  41.877722   \n",
       "D47BBDDE7C40DD61  Ashland Ave & Belle Plaine Ave          13249  41.961670   \n",
       "6684E760BF9EA9B5    Desplaines St & Jackson Blvd          15539  41.877726   \n",
       "CA9EFC0D24C24A27    Stetson Ave & South Water St   TA1308000029  41.961613   \n",
       "...                                          ...            ...        ...   \n",
       "5E41443305C3B8A0                             NaN            NaN  41.915689   \n",
       "50A275230D6C0492  California Ave & Milwaukee Ave          13084  41.900363   \n",
       "A88F756403FBF27F                             NaN            NaN  41.883498   \n",
       "DFD402AC5915F136                             NaN            NaN  41.883169   \n",
       "61F035E8DCBB5313                             NaN            NaN  41.883394   \n",
       "\n",
       "                  start_lng    end_lat    end_lng member_casual  \n",
       "ride_id                                                          \n",
       "743252713F32516B -87.654787  41.878119 -87.643948        member  \n",
       "BE90D33D2240C614 -87.654959  41.878119 -87.643948        member  \n",
       "D47BBDDE7C40DD61 -87.654640  41.956057 -87.668835        member  \n",
       "6684E760BF9EA9B5 -87.654787  41.878119 -87.643948        member  \n",
       "CA9EFC0D24C24A27 -87.654615  41.886835 -87.622320        member  \n",
       "...                     ...        ...        ...           ...  \n",
       "5E41443305C3B8A0 -87.634600        NaN        NaN        casual  \n",
       "50A275230D6C0492 -87.696704  41.922695 -87.697153        member  \n",
       "A88F756403FBF27F -87.641576  41.910000 -87.680000        member  \n",
       "DFD402AC5915F136 -87.641127  41.890000 -87.620000        member  \n",
       "61F035E8DCBB5313 -87.641219  41.920000 -87.660000        member  \n",
       "\n",
       "[415025 rows x 12 columns]"
      ]
     },
     "execution_count": 58,
     "metadata": {},
     "output_type": "execute_result"
    }
   ],
   "source": [
    "df1"
   ]
  },
  {
   "cell_type": "code",
   "execution_count": 59,
   "id": "a0af67ab-e090-467a-8bae-6d548cc54b66",
   "metadata": {},
   "outputs": [
    {
     "data": {
      "text/plain": [
       "rideable_type                           classic_bike\n",
       "started_at                       2024-04-20 11:13:13\n",
       "ended_at                         2024-04-20 11:29:31\n",
       "start_station_name        Sheridan Rd & Montrose Ave\n",
       "start_station_id                        TA1307000107\n",
       "end_station_name      Ashland Ave & Belle Plaine Ave\n",
       "end_station_id                                 13249\n",
       "start_lat                                   41.96167\n",
       "start_lng                                  -87.65464\n",
       "end_lat                                    41.956057\n",
       "end_lng                                   -87.668835\n",
       "member_casual                                 member\n",
       "Name: D47BBDDE7C40DD61, dtype: object"
      ]
     },
     "execution_count": 59,
     "metadata": {},
     "output_type": "execute_result"
    }
   ],
   "source": [
    "df1.loc[\"D47BBDDE7C40DD61\"]"
   ]
  },
  {
   "cell_type": "code",
   "execution_count": null,
   "id": "3fcb1e4e-b108-400f-ab06-5422659f8054",
   "metadata": {},
   "outputs": [],
   "source": []
  },
  {
   "cell_type": "code",
   "execution_count": 69,
   "id": "dbee1fd9-fbf5-4f55-a2a3-ff5a5113530d",
   "metadata": {},
   "outputs": [],
   "source": [
    "df2 = df1[[\"rideable_type\", \"started_at\", \"ended_at\", \"member_casual\"]]"
   ]
  },
  {
   "cell_type": "code",
   "execution_count": 70,
   "id": "f7b473f0-fbc6-43a3-b38f-a2f77e540cb3",
   "metadata": {},
   "outputs": [
    {
     "data": {
      "text/html": [
       "<div>\n",
       "<style scoped>\n",
       "    .dataframe tbody tr th:only-of-type {\n",
       "        vertical-align: middle;\n",
       "    }\n",
       "\n",
       "    .dataframe tbody tr th {\n",
       "        vertical-align: top;\n",
       "    }\n",
       "\n",
       "    .dataframe thead th {\n",
       "        text-align: right;\n",
       "    }\n",
       "</style>\n",
       "<table border=\"1\" class=\"dataframe\">\n",
       "  <thead>\n",
       "    <tr style=\"text-align: right;\">\n",
       "      <th></th>\n",
       "      <th>rideable_type</th>\n",
       "      <th>started_at</th>\n",
       "      <th>ended_at</th>\n",
       "      <th>member_casual</th>\n",
       "    </tr>\n",
       "    <tr>\n",
       "      <th>ride_id</th>\n",
       "      <th></th>\n",
       "      <th></th>\n",
       "      <th></th>\n",
       "      <th></th>\n",
       "    </tr>\n",
       "  </thead>\n",
       "  <tbody>\n",
       "    <tr>\n",
       "      <th>743252713F32516B</th>\n",
       "      <td>classic_bike</td>\n",
       "      <td>2024-04-22 19:08:21</td>\n",
       "      <td>2024-04-22 19:12:56</td>\n",
       "      <td>member</td>\n",
       "    </tr>\n",
       "    <tr>\n",
       "      <th>BE90D33D2240C614</th>\n",
       "      <td>electric_bike</td>\n",
       "      <td>2024-04-11 06:19:24</td>\n",
       "      <td>2024-04-11 06:22:21</td>\n",
       "      <td>member</td>\n",
       "    </tr>\n",
       "    <tr>\n",
       "      <th>D47BBDDE7C40DD61</th>\n",
       "      <td>classic_bike</td>\n",
       "      <td>2024-04-20 11:13:13</td>\n",
       "      <td>2024-04-20 11:29:31</td>\n",
       "      <td>member</td>\n",
       "    </tr>\n",
       "    <tr>\n",
       "      <th>6684E760BF9EA9B5</th>\n",
       "      <td>classic_bike</td>\n",
       "      <td>2024-04-04 18:39:20</td>\n",
       "      <td>2024-04-04 18:43:06</td>\n",
       "      <td>member</td>\n",
       "    </tr>\n",
       "    <tr>\n",
       "      <th>CA9EFC0D24C24A27</th>\n",
       "      <td>electric_bike</td>\n",
       "      <td>2024-04-19 19:30:20</td>\n",
       "      <td>2024-04-19 20:07:42</td>\n",
       "      <td>member</td>\n",
       "    </tr>\n",
       "    <tr>\n",
       "      <th>...</th>\n",
       "      <td>...</td>\n",
       "      <td>...</td>\n",
       "      <td>...</td>\n",
       "      <td>...</td>\n",
       "    </tr>\n",
       "    <tr>\n",
       "      <th>5E41443305C3B8A0</th>\n",
       "      <td>classic_bike</td>\n",
       "      <td>2024-04-06 13:40:56</td>\n",
       "      <td>2024-04-07 14:40:49</td>\n",
       "      <td>casual</td>\n",
       "    </tr>\n",
       "    <tr>\n",
       "      <th>50A275230D6C0492</th>\n",
       "      <td>classic_bike</td>\n",
       "      <td>2024-04-01 19:03:43</td>\n",
       "      <td>2024-04-01 19:13:16</td>\n",
       "      <td>member</td>\n",
       "    </tr>\n",
       "    <tr>\n",
       "      <th>A88F756403FBF27F</th>\n",
       "      <td>electric_bike</td>\n",
       "      <td>2024-04-11 16:09:50</td>\n",
       "      <td>2024-04-11 16:26:07</td>\n",
       "      <td>member</td>\n",
       "    </tr>\n",
       "    <tr>\n",
       "      <th>DFD402AC5915F136</th>\n",
       "      <td>electric_bike</td>\n",
       "      <td>2024-04-19 07:20:28</td>\n",
       "      <td>2024-04-19 07:30:05</td>\n",
       "      <td>member</td>\n",
       "    </tr>\n",
       "    <tr>\n",
       "      <th>61F035E8DCBB5313</th>\n",
       "      <td>electric_bike</td>\n",
       "      <td>2024-04-16 15:53:32</td>\n",
       "      <td>2024-04-16 16:15:20</td>\n",
       "      <td>member</td>\n",
       "    </tr>\n",
       "  </tbody>\n",
       "</table>\n",
       "<p>415025 rows × 4 columns</p>\n",
       "</div>"
      ],
      "text/plain": [
       "                  rideable_type           started_at             ended_at  \\\n",
       "ride_id                                                                     \n",
       "743252713F32516B   classic_bike  2024-04-22 19:08:21  2024-04-22 19:12:56   \n",
       "BE90D33D2240C614  electric_bike  2024-04-11 06:19:24  2024-04-11 06:22:21   \n",
       "D47BBDDE7C40DD61   classic_bike  2024-04-20 11:13:13  2024-04-20 11:29:31   \n",
       "6684E760BF9EA9B5   classic_bike  2024-04-04 18:39:20  2024-04-04 18:43:06   \n",
       "CA9EFC0D24C24A27  electric_bike  2024-04-19 19:30:20  2024-04-19 20:07:42   \n",
       "...                         ...                  ...                  ...   \n",
       "5E41443305C3B8A0   classic_bike  2024-04-06 13:40:56  2024-04-07 14:40:49   \n",
       "50A275230D6C0492   classic_bike  2024-04-01 19:03:43  2024-04-01 19:13:16   \n",
       "A88F756403FBF27F  electric_bike  2024-04-11 16:09:50  2024-04-11 16:26:07   \n",
       "DFD402AC5915F136  electric_bike  2024-04-19 07:20:28  2024-04-19 07:30:05   \n",
       "61F035E8DCBB5313  electric_bike  2024-04-16 15:53:32  2024-04-16 16:15:20   \n",
       "\n",
       "                 member_casual  \n",
       "ride_id                         \n",
       "743252713F32516B        member  \n",
       "BE90D33D2240C614        member  \n",
       "D47BBDDE7C40DD61        member  \n",
       "6684E760BF9EA9B5        member  \n",
       "CA9EFC0D24C24A27        member  \n",
       "...                        ...  \n",
       "5E41443305C3B8A0        casual  \n",
       "50A275230D6C0492        member  \n",
       "A88F756403FBF27F        member  \n",
       "DFD402AC5915F136        member  \n",
       "61F035E8DCBB5313        member  \n",
       "\n",
       "[415025 rows x 4 columns]"
      ]
     },
     "execution_count": 70,
     "metadata": {},
     "output_type": "execute_result"
    }
   ],
   "source": [
    "df2"
   ]
  },
  {
   "cell_type": "code",
   "execution_count": 72,
   "id": "1a5aca4d-29c7-402c-ac9e-2663e52c1197",
   "metadata": {},
   "outputs": [
    {
     "name": "stdout",
     "output_type": "stream",
     "text": [
      "<class 'pandas.core.frame.DataFrame'>\n",
      "Index: 415025 entries, 743252713F32516B to 61F035E8DCBB5313\n",
      "Data columns (total 4 columns):\n",
      " #   Column         Non-Null Count   Dtype \n",
      "---  ------         --------------   ----- \n",
      " 0   rideable_type  415025 non-null  object\n",
      " 1   started_at     415025 non-null  object\n",
      " 2   ended_at       415025 non-null  object\n",
      " 3   member_casual  415025 non-null  object\n",
      "dtypes: object(4)\n",
      "memory usage: 15.8+ MB\n"
     ]
    }
   ],
   "source": [
    "df2.info()"
   ]
  },
  {
   "cell_type": "code",
   "execution_count": 73,
   "id": "57c70f58-3ecf-4d8b-8470-4230cbc57b48",
   "metadata": {},
   "outputs": [],
   "source": [
    "df3 = df2[(df2[\"started_at\"] >= \"2024-04-08\") & (df2[\"ended_at\"] <= \"2024-04-15\")]"
   ]
  },
  {
   "cell_type": "code",
   "execution_count": 74,
   "id": "6b185ee1-1177-4cdf-933b-f8325c9d6429",
   "metadata": {},
   "outputs": [
    {
     "data": {
      "text/html": [
       "<div>\n",
       "<style scoped>\n",
       "    .dataframe tbody tr th:only-of-type {\n",
       "        vertical-align: middle;\n",
       "    }\n",
       "\n",
       "    .dataframe tbody tr th {\n",
       "        vertical-align: top;\n",
       "    }\n",
       "\n",
       "    .dataframe thead th {\n",
       "        text-align: right;\n",
       "    }\n",
       "</style>\n",
       "<table border=\"1\" class=\"dataframe\">\n",
       "  <thead>\n",
       "    <tr style=\"text-align: right;\">\n",
       "      <th></th>\n",
       "      <th>rideable_type</th>\n",
       "      <th>started_at</th>\n",
       "      <th>ended_at</th>\n",
       "      <th>member_casual</th>\n",
       "    </tr>\n",
       "    <tr>\n",
       "      <th>ride_id</th>\n",
       "      <th></th>\n",
       "      <th></th>\n",
       "      <th></th>\n",
       "      <th></th>\n",
       "    </tr>\n",
       "  </thead>\n",
       "  <tbody>\n",
       "    <tr>\n",
       "      <th>BE90D33D2240C614</th>\n",
       "      <td>electric_bike</td>\n",
       "      <td>2024-04-11 06:19:24</td>\n",
       "      <td>2024-04-11 06:22:21</td>\n",
       "      <td>member</td>\n",
       "    </tr>\n",
       "    <tr>\n",
       "      <th>AA64319F52336324</th>\n",
       "      <td>classic_bike</td>\n",
       "      <td>2024-04-10 16:27:08</td>\n",
       "      <td>2024-04-10 16:32:16</td>\n",
       "      <td>member</td>\n",
       "    </tr>\n",
       "    <tr>\n",
       "      <th>59F25CB1AAC309BA</th>\n",
       "      <td>electric_bike</td>\n",
       "      <td>2024-04-11 18:24:09</td>\n",
       "      <td>2024-04-11 18:30:11</td>\n",
       "      <td>member</td>\n",
       "    </tr>\n",
       "    <tr>\n",
       "      <th>5D436A9465AF4900</th>\n",
       "      <td>classic_bike</td>\n",
       "      <td>2024-04-10 17:19:17</td>\n",
       "      <td>2024-04-10 17:25:01</td>\n",
       "      <td>member</td>\n",
       "    </tr>\n",
       "    <tr>\n",
       "      <th>3CBBFE05C8E0C34C</th>\n",
       "      <td>classic_bike</td>\n",
       "      <td>2024-04-12 22:43:02</td>\n",
       "      <td>2024-04-12 22:55:16</td>\n",
       "      <td>member</td>\n",
       "    </tr>\n",
       "    <tr>\n",
       "      <th>...</th>\n",
       "      <td>...</td>\n",
       "      <td>...</td>\n",
       "      <td>...</td>\n",
       "      <td>...</td>\n",
       "    </tr>\n",
       "    <tr>\n",
       "      <th>BE0071DAECD43073</th>\n",
       "      <td>electric_bike</td>\n",
       "      <td>2024-04-12 15:02:53</td>\n",
       "      <td>2024-04-12 15:05:50</td>\n",
       "      <td>member</td>\n",
       "    </tr>\n",
       "    <tr>\n",
       "      <th>86BFB9971EB78EDD</th>\n",
       "      <td>electric_bike</td>\n",
       "      <td>2024-04-08 05:40:20</td>\n",
       "      <td>2024-04-08 05:44:41</td>\n",
       "      <td>member</td>\n",
       "    </tr>\n",
       "    <tr>\n",
       "      <th>0C8EDF776A6A2180</th>\n",
       "      <td>electric_bike</td>\n",
       "      <td>2024-04-08 17:38:51</td>\n",
       "      <td>2024-04-08 17:49:15</td>\n",
       "      <td>member</td>\n",
       "    </tr>\n",
       "    <tr>\n",
       "      <th>A760201A6D54480C</th>\n",
       "      <td>electric_bike</td>\n",
       "      <td>2024-04-08 11:23:04</td>\n",
       "      <td>2024-04-08 11:34:48</td>\n",
       "      <td>member</td>\n",
       "    </tr>\n",
       "    <tr>\n",
       "      <th>A88F756403FBF27F</th>\n",
       "      <td>electric_bike</td>\n",
       "      <td>2024-04-11 16:09:50</td>\n",
       "      <td>2024-04-11 16:26:07</td>\n",
       "      <td>member</td>\n",
       "    </tr>\n",
       "  </tbody>\n",
       "</table>\n",
       "<p>119335 rows × 4 columns</p>\n",
       "</div>"
      ],
      "text/plain": [
       "                  rideable_type           started_at             ended_at  \\\n",
       "ride_id                                                                     \n",
       "BE90D33D2240C614  electric_bike  2024-04-11 06:19:24  2024-04-11 06:22:21   \n",
       "AA64319F52336324   classic_bike  2024-04-10 16:27:08  2024-04-10 16:32:16   \n",
       "59F25CB1AAC309BA  electric_bike  2024-04-11 18:24:09  2024-04-11 18:30:11   \n",
       "5D436A9465AF4900   classic_bike  2024-04-10 17:19:17  2024-04-10 17:25:01   \n",
       "3CBBFE05C8E0C34C   classic_bike  2024-04-12 22:43:02  2024-04-12 22:55:16   \n",
       "...                         ...                  ...                  ...   \n",
       "BE0071DAECD43073  electric_bike  2024-04-12 15:02:53  2024-04-12 15:05:50   \n",
       "86BFB9971EB78EDD  electric_bike  2024-04-08 05:40:20  2024-04-08 05:44:41   \n",
       "0C8EDF776A6A2180  electric_bike  2024-04-08 17:38:51  2024-04-08 17:49:15   \n",
       "A760201A6D54480C  electric_bike  2024-04-08 11:23:04  2024-04-08 11:34:48   \n",
       "A88F756403FBF27F  electric_bike  2024-04-11 16:09:50  2024-04-11 16:26:07   \n",
       "\n",
       "                 member_casual  \n",
       "ride_id                         \n",
       "BE90D33D2240C614        member  \n",
       "AA64319F52336324        member  \n",
       "59F25CB1AAC309BA        member  \n",
       "5D436A9465AF4900        member  \n",
       "3CBBFE05C8E0C34C        member  \n",
       "...                        ...  \n",
       "BE0071DAECD43073        member  \n",
       "86BFB9971EB78EDD        member  \n",
       "0C8EDF776A6A2180        member  \n",
       "A760201A6D54480C        member  \n",
       "A88F756403FBF27F        member  \n",
       "\n",
       "[119335 rows x 4 columns]"
      ]
     },
     "execution_count": 74,
     "metadata": {},
     "output_type": "execute_result"
    }
   ],
   "source": [
    "df3"
   ]
  },
  {
   "cell_type": "code",
   "execution_count": 75,
   "id": "2bf6ef90-ebee-43dc-86bb-b820f3b5b178",
   "metadata": {},
   "outputs": [
    {
     "data": {
      "text/plain": [
       "119335"
      ]
     },
     "execution_count": 75,
     "metadata": {},
     "output_type": "execute_result"
    }
   ],
   "source": [
    "len(df3)"
   ]
  },
  {
   "cell_type": "code",
   "execution_count": 76,
   "id": "9bb1be84-abbc-4990-86b5-2a5d333fc746",
   "metadata": {},
   "outputs": [],
   "source": [
    "df4 =df3.groupby(\"rideable_type\").count()"
   ]
  },
  {
   "cell_type": "code",
   "execution_count": 77,
   "id": "f107e691-479c-430d-8e1f-5f0235fffd79",
   "metadata": {},
   "outputs": [
    {
     "data": {
      "text/html": [
       "<div>\n",
       "<style scoped>\n",
       "    .dataframe tbody tr th:only-of-type {\n",
       "        vertical-align: middle;\n",
       "    }\n",
       "\n",
       "    .dataframe tbody tr th {\n",
       "        vertical-align: top;\n",
       "    }\n",
       "\n",
       "    .dataframe thead th {\n",
       "        text-align: right;\n",
       "    }\n",
       "</style>\n",
       "<table border=\"1\" class=\"dataframe\">\n",
       "  <thead>\n",
       "    <tr style=\"text-align: right;\">\n",
       "      <th></th>\n",
       "      <th>started_at</th>\n",
       "      <th>ended_at</th>\n",
       "      <th>member_casual</th>\n",
       "    </tr>\n",
       "    <tr>\n",
       "      <th>rideable_type</th>\n",
       "      <th></th>\n",
       "      <th></th>\n",
       "      <th></th>\n",
       "    </tr>\n",
       "  </thead>\n",
       "  <tbody>\n",
       "    <tr>\n",
       "      <th>classic_bike</th>\n",
       "      <td>56523</td>\n",
       "      <td>56523</td>\n",
       "      <td>56523</td>\n",
       "    </tr>\n",
       "    <tr>\n",
       "      <th>electric_bike</th>\n",
       "      <td>62812</td>\n",
       "      <td>62812</td>\n",
       "      <td>62812</td>\n",
       "    </tr>\n",
       "  </tbody>\n",
       "</table>\n",
       "</div>"
      ],
      "text/plain": [
       "               started_at  ended_at  member_casual\n",
       "rideable_type                                     \n",
       "classic_bike        56523     56523          56523\n",
       "electric_bike       62812     62812          62812"
      ]
     },
     "execution_count": 77,
     "metadata": {},
     "output_type": "execute_result"
    }
   ],
   "source": [
    "df4"
   ]
  },
  {
   "cell_type": "code",
   "execution_count": 78,
   "id": "d16190d5-7241-422b-9238-5b2bc6820934",
   "metadata": {},
   "outputs": [],
   "source": [
    "cb_number = df4.iloc[0][\"started_at\"]"
   ]
  },
  {
   "cell_type": "code",
   "execution_count": 79,
   "id": "7250928d-9366-4ab8-a9fb-df34c679c575",
   "metadata": {},
   "outputs": [
    {
     "data": {
      "text/plain": [
       "56523"
      ]
     },
     "execution_count": 79,
     "metadata": {},
     "output_type": "execute_result"
    }
   ],
   "source": [
    "cb_number"
   ]
  },
  {
   "cell_type": "code",
   "execution_count": 81,
   "id": "59dd885f-a574-40e8-986b-f66b911132c1",
   "metadata": {},
   "outputs": [],
   "source": [
    "cb_percent = (cb_number / len(df3)) * 100"
   ]
  },
  {
   "cell_type": "code",
   "execution_count": 82,
   "id": "a40800a7-dd5b-4cc6-90c0-b6abaa40f6d6",
   "metadata": {},
   "outputs": [
    {
     "data": {
      "text/plain": [
       "47.364980936020444"
      ]
     },
     "execution_count": 82,
     "metadata": {},
     "output_type": "execute_result"
    }
   ],
   "source": [
    "cb_percent"
   ]
  },
  {
   "cell_type": "code",
   "execution_count": 85,
   "id": "e492edf4-ea2b-45bc-9c84-649b1b0d1fe8",
   "metadata": {},
   "outputs": [
    {
     "data": {
      "text/plain": [
       "47.365"
      ]
     },
     "execution_count": 85,
     "metadata": {},
     "output_type": "execute_result"
    }
   ],
   "source": [
    "round(cb_percent, 4)"
   ]
  },
  {
   "cell_type": "code",
   "execution_count": 86,
   "id": "bde4ce54-8fb0-444b-802e-dc5947d4e884",
   "metadata": {},
   "outputs": [],
   "source": [
    "eb_number = df4.iloc[1][\"started_at\"]"
   ]
  },
  {
   "cell_type": "code",
   "execution_count": 87,
   "id": "af475099-ede0-4655-8dd1-8a4727a9c82b",
   "metadata": {},
   "outputs": [
    {
     "data": {
      "text/plain": [
       "62812"
      ]
     },
     "execution_count": 87,
     "metadata": {},
     "output_type": "execute_result"
    }
   ],
   "source": [
    "eb_number"
   ]
  },
  {
   "cell_type": "code",
   "execution_count": 89,
   "id": "87b0b628-a451-409b-920e-9b902137e562",
   "metadata": {},
   "outputs": [],
   "source": [
    "eb_percent = (eb_number/len(df3)) * 100"
   ]
  },
  {
   "cell_type": "code",
   "execution_count": 91,
   "id": "7fba5437-db86-447d-9c04-54f6d128c88f",
   "metadata": {},
   "outputs": [
    {
     "data": {
      "text/plain": [
       "52.635"
      ]
     },
     "execution_count": 91,
     "metadata": {},
     "output_type": "execute_result"
    }
   ],
   "source": [
    "round(eb_percent, 4)"
   ]
  },
  {
   "cell_type": "code",
   "execution_count": null,
   "id": "f53badcb-bcb8-4955-8e1c-26446277d1a5",
   "metadata": {},
   "outputs": [],
   "source": []
  },
  {
   "cell_type": "code",
   "execution_count": 93,
   "id": "524fec5e-62f8-4d6c-87b5-eb2ee3cb7640",
   "metadata": {},
   "outputs": [],
   "source": [
    "df5 = df3.groupby(\"member_casual\").count()"
   ]
  },
  {
   "cell_type": "code",
   "execution_count": 94,
   "id": "57ea6e62-75af-4ebd-b10b-04cecd81c1ef",
   "metadata": {},
   "outputs": [
    {
     "data": {
      "text/html": [
       "<div>\n",
       "<style scoped>\n",
       "    .dataframe tbody tr th:only-of-type {\n",
       "        vertical-align: middle;\n",
       "    }\n",
       "\n",
       "    .dataframe tbody tr th {\n",
       "        vertical-align: top;\n",
       "    }\n",
       "\n",
       "    .dataframe thead th {\n",
       "        text-align: right;\n",
       "    }\n",
       "</style>\n",
       "<table border=\"1\" class=\"dataframe\">\n",
       "  <thead>\n",
       "    <tr style=\"text-align: right;\">\n",
       "      <th></th>\n",
       "      <th>rideable_type</th>\n",
       "      <th>started_at</th>\n",
       "      <th>ended_at</th>\n",
       "    </tr>\n",
       "    <tr>\n",
       "      <th>member_casual</th>\n",
       "      <th></th>\n",
       "      <th></th>\n",
       "      <th></th>\n",
       "    </tr>\n",
       "  </thead>\n",
       "  <tbody>\n",
       "    <tr>\n",
       "      <th>casual</th>\n",
       "      <td>43178</td>\n",
       "      <td>43178</td>\n",
       "      <td>43178</td>\n",
       "    </tr>\n",
       "    <tr>\n",
       "      <th>member</th>\n",
       "      <td>76157</td>\n",
       "      <td>76157</td>\n",
       "      <td>76157</td>\n",
       "    </tr>\n",
       "  </tbody>\n",
       "</table>\n",
       "</div>"
      ],
      "text/plain": [
       "               rideable_type  started_at  ended_at\n",
       "member_casual                                     \n",
       "casual                 43178       43178     43178\n",
       "member                 76157       76157     76157"
      ]
     },
     "execution_count": 94,
     "metadata": {},
     "output_type": "execute_result"
    }
   ],
   "source": [
    "df5"
   ]
  },
  {
   "cell_type": "code",
   "execution_count": 96,
   "id": "64861f60-acb2-4bd9-b5ed-a729fd49995a",
   "metadata": {},
   "outputs": [],
   "source": [
    "casual_number = df5.iloc[0][\"started_at\"]"
   ]
  },
  {
   "cell_type": "code",
   "execution_count": 97,
   "id": "6fab939f-5ed1-4313-a5f0-04b3a38d4376",
   "metadata": {},
   "outputs": [
    {
     "data": {
      "text/plain": [
       "43178"
      ]
     },
     "execution_count": 97,
     "metadata": {},
     "output_type": "execute_result"
    }
   ],
   "source": [
    "casual_number"
   ]
  },
  {
   "cell_type": "code",
   "execution_count": 98,
   "id": "f1009680-b066-42cc-b0fc-ec72156395e8",
   "metadata": {},
   "outputs": [],
   "source": [
    "member_number = df5.iloc[1][\"started_at\"]"
   ]
  },
  {
   "cell_type": "code",
   "execution_count": 99,
   "id": "5768c9e0-1f6a-4583-a8c2-ab9bc12c0741",
   "metadata": {},
   "outputs": [
    {
     "data": {
      "text/plain": [
       "76157"
      ]
     },
     "execution_count": 99,
     "metadata": {},
     "output_type": "execute_result"
    }
   ],
   "source": [
    "member_number"
   ]
  },
  {
   "cell_type": "code",
   "execution_count": 100,
   "id": "f8161dea-0f32-4360-a2d1-ca7f94d37813",
   "metadata": {},
   "outputs": [],
   "source": [
    "casual_percent =  (casual_number/len(df3)) * 100"
   ]
  },
  {
   "cell_type": "code",
   "execution_count": 102,
   "id": "7a809905-dc31-4816-b3b2-427a4b142e9b",
   "metadata": {},
   "outputs": [
    {
     "data": {
      "text/plain": [
       "36.1822"
      ]
     },
     "execution_count": 102,
     "metadata": {},
     "output_type": "execute_result"
    }
   ],
   "source": [
    "round(casual_percent,4)"
   ]
  },
  {
   "cell_type": "code",
   "execution_count": 103,
   "id": "4686a37c-a237-4609-b6bc-d7b26adcccb7",
   "metadata": {},
   "outputs": [],
   "source": [
    "member_percent = (member_number/len(df3)) *100"
   ]
  },
  {
   "cell_type": "code",
   "execution_count": 105,
   "id": "794bce36-e612-4803-ba24-17d3ee2e5e53",
   "metadata": {},
   "outputs": [
    {
     "data": {
      "text/plain": [
       "63.8178"
      ]
     },
     "execution_count": 105,
     "metadata": {},
     "output_type": "execute_result"
    }
   ],
   "source": [
    "round(member_percent,4)"
   ]
  },
  {
   "cell_type": "code",
   "execution_count": null,
   "id": "fe5726d4-bff9-4af6-83c3-e45210e1830c",
   "metadata": {},
   "outputs": [],
   "source": []
  }
 ],
 "metadata": {
  "kernelspec": {
   "display_name": "Python 3 (ipykernel)",
   "language": "python",
   "name": "python3"
  },
  "language_info": {
   "codemirror_mode": {
    "name": "ipython",
    "version": 3
   },
   "file_extension": ".py",
   "mimetype": "text/x-python",
   "name": "python",
   "nbconvert_exporter": "python",
   "pygments_lexer": "ipython3",
   "version": "3.12.3"
  }
 },
 "nbformat": 4,
 "nbformat_minor": 5
}
